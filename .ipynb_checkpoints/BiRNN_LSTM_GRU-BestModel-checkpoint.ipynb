{
 "cells": [
  {
   "cell_type": "markdown",
   "metadata": {
    "id": "T28QEDT-Uqj2"
   },
   "source": [
    "<p align=\"center\">\n",
    " <img src=\"http://www.di.uoa.gr/themes/corporate_lite/logo_el.png\" title=\"Department of Informatics and Telecommunications - University of Athens\"/> </p>\n",
    "\n",
    "---\n",
    "<h1 align=\"center\"> \n",
    "  Artificial Intelligence\n",
    "</h1>\n",
    "<h1 align=\"center\" > \n",
    "  Deep Learning for Natural Language Processing\n",
    "</h1>\n",
    "\n",
    "---\n",
    "<h2 align=\"center\"> \n",
    " <b>Konstantinos Nikoletos</b>\n",
    "</h2>\n",
    "\n",
    "<h3 align=\"center\"> \n",
    " <b>Winter 2020-2021</b>\n",
    "</h3>\n",
    "\n",
    "\n",
    "---\n",
    "---"
   ]
  },
  {
   "cell_type": "markdown",
   "metadata": {
    "id": "cHB730i_eSmM"
   },
   "source": [
    "\n",
    "#  <center> <b>   Best model notebook | GloVe with RNN  </b> </center>\n",
    "\n",
    "### __Task__ \n",
    "Develop a sentiment classifier using a bidirectional stacked RNN with LSTM/GRU cells\n",
    "for the Twitter sentiment analysis dataset of the previous assignment available here. For\n",
    "the development of the models, you can experiment with the number of stacked RNNs,\n",
    "the number of hidden layers, type of cells, skip connections, gradient clipping and dropout\n",
    "probability. Document the performance of different configurations on your final report.\n",
    "Use the Adam optimizer and the binary cross-entropy loss function. Remember to transform the predicted logits to probabilities using a sigmoid function. You should also utilize\n",
    "pre-trained word embeddings (GloVe) as the initial embeddings to input on your models.\n",
    "\n",
    "> For the best model you found:\n",
    " - Compute precision, recall and F1 for each class.\n",
    " - Plot the loss vs. epochs curve and the ROC curve and explain what you see.\n",
    " - Compare with your best model from Homework 2.\n",
    " \n",
    "Your solution should be implemented in PyTorch and we expect your report to be well\n",
    "documented.\n",
    "\n",
    "### __Notebook__ \n",
    "In this notebook I am going to run the best combination of models and parameters. Selection of parameters and model is a result of the previous notebook (Experiment Notebook)\n",
    "\n",
    "---\n",
    "---"
   ]
  },
  {
   "cell_type": "markdown",
   "metadata": {
    "id": "6OfAccyufasd"
   },
   "source": [
    "__Import__ of essential libraries\n"
   ]
  },
  {
   "cell_type": "code",
   "execution_count": null,
   "metadata": {
    "colab": {
     "base_uri": "https://localhost:8080/"
    },
    "id": "dVSHtKTrfGiV",
    "outputId": "0d618505-7a5b-46fe-88b5-706f26bb7edf"
   },
   "outputs": [
    {
     "name": "stdout",
     "output_type": "stream",
     "text": [
      "[nltk_data] Downloading package punkt to /root/nltk_data...\n",
      "[nltk_data]   Unzipping tokenizers/punkt.zip.\n",
      "[nltk_data] Downloading package wordnet to /root/nltk_data...\n",
      "[nltk_data]   Unzipping corpora/wordnet.zip.\n",
      "[nltk_data] Downloading package stopwords to /root/nltk_data...\n",
      "[nltk_data]   Unzipping corpora/stopwords.zip.\n",
      "[nltk_data] Downloading package averaged_perceptron_tagger to\n",
      "[nltk_data]     /root/nltk_data...\n",
      "[nltk_data]   Unzipping taggers/averaged_perceptron_tagger.zip.\n"
     ]
    },
    {
     "data": {
      "text/plain": [
       "True"
      ]
     },
     "execution_count": 1,
     "metadata": {
      "tags": []
     },
     "output_type": "execute_result"
    }
   ],
   "source": [
    "import numpy as np\n",
    "import matplotlib.pyplot as plt\n",
    "import pandas as pd \n",
    "import sys # only needed to determine Python version number\n",
    "import matplotlib # only needed to determine Matplotlib version \n",
    "import nltk\n",
    "from nltk.stem import WordNetLemmatizer\n",
    "nltk.download('punkt')\n",
    "nltk.download('wordnet')\n",
    "nltk.download('stopwords')\n",
    "nltk.download('averaged_perceptron_tagger')"
   ]
  },
  {
   "cell_type": "markdown",
   "metadata": {
    "id": "PF7UeY--wfi2"
   },
   "source": [
    "__PyTorch imports__\n",
    "\n"
   ]
  },
  {
   "cell_type": "code",
   "execution_count": null,
   "metadata": {
    "id": "RX9EjAJ_wekG"
   },
   "outputs": [],
   "source": [
    "import pprint\n",
    "import torch\n",
    "import torch.nn as nn\n",
    "import torch.optim as optim\n",
    "from torchtext import data"
   ]
  },
  {
   "cell_type": "markdown",
   "metadata": {
    "id": "vC9DWskzConr"
   },
   "source": [
    "Selecting device (CUDA if available)"
   ]
  },
  {
   "cell_type": "code",
   "execution_count": null,
   "metadata": {
    "colab": {
     "base_uri": "https://localhost:8080/"
    },
    "id": "NiRkpLhiCntl",
    "outputId": "cb38b170-1e9b-4517-fb1e-e8fb50c8528d"
   },
   "outputs": [
    {
     "name": "stdout",
     "output_type": "stream",
     "text": [
      "Training on GPU.\n"
     ]
    }
   ],
   "source": [
    "# First checking if GPU is available\n",
    "train_on_gpu=torch.cuda.is_available()\n",
    "\n",
    "if(train_on_gpu):\n",
    "    print('Training on GPU.')\n",
    "else:\n",
    "    print('No GPU available, training on CPU.')"
   ]
  },
  {
   "cell_type": "markdown",
   "metadata": {
    "id": "jAyyovNsGMh7"
   },
   "source": [
    "Initializing random seed as in lesson's notebooks.\n"
   ]
  },
  {
   "cell_type": "code",
   "execution_count": null,
   "metadata": {
    "id": "57CtIpBzF-9i"
   },
   "outputs": [],
   "source": [
    "import random\n",
    "import os\n",
    "\n",
    "def set_seed(seed = 1234):\n",
    "    '''Sets the seed of the entire notebook so results are the same every time we run.\n",
    "    This is for REPRODUCIBILITY.'''\n",
    "    np.random.seed(seed)\n",
    "    random.seed(seed)\n",
    "    torch.manual_seed(seed)\n",
    "    torch.cuda.manual_seed(seed)\n",
    "    # When running on the CuDNN backend, two further options must be set\n",
    "    torch.backends.cudnn.deterministic = True\n",
    "    # Set a fixed value for the hash seed\n",
    "    os.environ['PYTHONHASHSEED'] = str(seed)\n",
    "    \n",
    "set_seed()\n",
    "device = 'cuda'"
   ]
  },
  {
   "cell_type": "markdown",
   "metadata": {
    "id": "FHPD7L2off6x"
   },
   "source": [
    "# __Loading__ the dataset\n"
   ]
  },
  {
   "cell_type": "code",
   "execution_count": null,
   "metadata": {
    "colab": {
     "base_uri": "https://localhost:8080/"
    },
    "id": "CsY-8ThJfmIa",
    "outputId": "5876003d-1fea-4af0-f1e3-98b3c55d4910"
   },
   "outputs": [
    {
     "name": "stdout",
     "output_type": "stream",
     "text": [
      "Mounted at /content/drive\n"
     ]
    }
   ],
   "source": [
    "# Opening data file\n",
    "import io\n",
    "from google.colab import drive\n",
    "drive.mount('/content/drive',force_remount=True)\n",
    "filePath = r\"/content/drive/My Drive/Colab_Notebooks/SentimentTweets.csv\"\n",
    "csv = pd.read_csv(filePath,nrows=100000)"
   ]
  },
  {
   "cell_type": "markdown",
   "metadata": {
    "id": "YkMXhFN6fl4H"
   },
   "source": [
    "This dataset encoded the target variable with a 3-point ordinal scale: 0 = negative, 2 = neutral, 4 = positive. But this dataset contains only:\n",
    "- 0 -> negative\n",
    "- 4 -> positive\n",
    "\n",
    "So, tweets will be predicted only as positive or negative\n",
    "\n",
    "\n",
    " Forming __dataframe__"
   ]
  },
  {
   "cell_type": "code",
   "execution_count": null,
   "metadata": {
    "colab": {
     "base_uri": "https://localhost:8080/",
     "height": 204
    },
    "id": "_oid1uQAf-xZ",
    "outputId": "272dc620-059e-4ca4-c3c0-0c49511cbf4d"
   },
   "outputs": [
    {
     "data": {
      "text/html": [
       "<div>\n",
       "<style scoped>\n",
       "    .dataframe tbody tr th:only-of-type {\n",
       "        vertical-align: middle;\n",
       "    }\n",
       "\n",
       "    .dataframe tbody tr th {\n",
       "        vertical-align: top;\n",
       "    }\n",
       "\n",
       "    .dataframe thead th {\n",
       "        text-align: right;\n",
       "    }\n",
       "</style>\n",
       "<table border=\"1\" class=\"dataframe\">\n",
       "  <thead>\n",
       "    <tr style=\"text-align: right;\">\n",
       "      <th></th>\n",
       "      <th>target</th>\n",
       "      <th>text</th>\n",
       "      <th>tweet</th>\n",
       "    </tr>\n",
       "  </thead>\n",
       "  <tbody>\n",
       "    <tr>\n",
       "      <th>0</th>\n",
       "      <td>0</td>\n",
       "      <td>#brokenpromises...</td>\n",
       "      <td>#brokenpromises...</td>\n",
       "    </tr>\n",
       "    <tr>\n",
       "      <th>1</th>\n",
       "      <td>0</td>\n",
       "      <td>David Carradine  so sad. Thai's law not sure i...</td>\n",
       "      <td>David Carradine  so sad. Thai's law not sure i...</td>\n",
       "    </tr>\n",
       "    <tr>\n",
       "      <th>2</th>\n",
       "      <td>4</td>\n",
       "      <td>A @ 415 B @ 425. Tell your bro i say congrats!</td>\n",
       "      <td>A @ 415 B @ 425. Tell your bro i say congrats!</td>\n",
       "    </tr>\n",
       "    <tr>\n",
       "      <th>3</th>\n",
       "      <td>4</td>\n",
       "      <td>@littlefluffycat  Indeed.</td>\n",
       "      <td>@littlefluffycat  Indeed.</td>\n",
       "    </tr>\n",
       "    <tr>\n",
       "      <th>4</th>\n",
       "      <td>4</td>\n",
       "      <td>Completed Race 4 Life in 58mins with girlies f...</td>\n",
       "      <td>Completed Race 4 Life in 58mins with girlies f...</td>\n",
       "    </tr>\n",
       "  </tbody>\n",
       "</table>\n",
       "</div>"
      ],
      "text/plain": [
       "   target  ...                                              tweet\n",
       "0       0  ...                                #brokenpromises... \n",
       "1       0  ...  David Carradine  so sad. Thai's law not sure i...\n",
       "2       4  ...    A @ 415 B @ 425. Tell your bro i say congrats! \n",
       "3       4  ...                          @littlefluffycat  Indeed.\n",
       "4       4  ...  Completed Race 4 Life in 58mins with girlies f...\n",
       "\n",
       "[5 rows x 3 columns]"
      ]
     },
     "execution_count": 6,
     "metadata": {
      "tags": []
     },
     "output_type": "execute_result"
    }
   ],
   "source": [
    "tweetDf  = pd.DataFrame(data=csv)\n",
    "tweetDf.drop(columns=[\"Unnamed: 0\",\"id\",\"date\",\"flag\",\"user\"],inplace=True)\n",
    "tweetDf['tweet'] = tweetDf['text']\n",
    "tweetDf.head(5)"
   ]
  },
  {
   "cell_type": "markdown",
   "metadata": {
    "id": "vc56d1wI5lMz"
   },
   "source": [
    "#  Data pre-processing\n",
    "---"
   ]
  },
  {
   "cell_type": "markdown",
   "metadata": {
    "id": "Qv-s7sFSm7_F"
   },
   "source": [
    "### __Text cleaning__ from stopwords,links and pancutation.\n",
    "\n",
    "Creating a set of stopwords first consisted of nltk library and wordcloud library:"
   ]
  },
  {
   "cell_type": "code",
   "execution_count": null,
   "metadata": {
    "id": "ZCAjk7u0m9gC"
   },
   "outputs": [],
   "source": [
    "from wordcloud import STOPWORDS as stopwords1,WordCloud\n",
    "from nltk.corpus import stopwords as stopwords2\n",
    "from nltk import word_tokenize\n",
    "import string\n",
    "import unicodedata\n",
    "import re\n",
    "import string\n",
    "            \n",
    "            \n",
    "stopwords = set(stopwords1)\n",
    "stopwords_nltk =  set(stopwords2.words('english'))\n",
    "stopwords.update(stopwords_nltk)\n",
    "\n",
    "# Removes stopwords from sentences\n",
    "def removeStopWords(text):\n",
    "    return ' '.join([y for y in word_tokenize(text) if y not in stopwords])\n",
    "\n",
    "# Function that lemmatizes wanted columns\n",
    "lemmatizer = nltk.stem.WordNetLemmatizer()\n",
    "def Lemmatize(text):\n",
    "    return ' '.join([lemmatizer.lemmatize(y,'v') for y in word_tokenize(text)])\n",
    "\n",
    "def normalazation(text):\n",
    "    return ' '.join([normalize_word(y) for y in word_tokenize(text)])\n",
    "\n",
    "def normalize_word(word):\n",
    "    # Will remove the encode token by token\n",
    "    word = unicodedata.normalize('NFKD', word).encode('ASCII','ignore').decode('ASCII')\n",
    "    return word\n",
    "\n",
    "def smallwordsRemoval(text):\n",
    "    return ' '.join([remove_smallWords(y) for y in word_tokenize(text)])\n",
    "\n",
    "def remove_smallWords(word):\n",
    "    if (len(word) > 2):\n",
    "        return word\n",
    "    else:\n",
    "        return ''    \n",
    "\n",
    "def preprocess_text(column_of_sentences):\n",
    "    lemmatizer = nltk.stem.WordNetLemmatizer()\n",
    "    processed_column = [] \n",
    "    for sentence in column_of_sentences:\n",
    "      processed_sentence = [] \n",
    "      for word in word_tokenize(sentence):\n",
    "        if word not in string.punctuation:\n",
    "          word = word.replace(r'@\\S+',' ').replace(r'\\\\\\S+',' ').replace('\\n',' ').replace('[{}]'.format(string.punctuation), '')\n",
    "          word = word.lower()\n",
    "          word = ''.join(ch for ch in word if not ch in string.punctuation and not ch.isdigit())\n",
    "          word = unicodedata.normalize('NFKD', word).encode('ASCII','ignore').decode('ASCII')\n",
    "          word = lemmatizer.lemmatize(word,'v')\n",
    "          if len(word) > 2:\n",
    "            processed_sentence.append(word)\n",
    "      if len(processed_sentence) == 0:\n",
    "        processed_column.append(np.nan)\n",
    "      else:\n",
    "        processed_column.append(' '.join(processed_sentence))\n",
    "    return processed_column        "
   ]
  },
  {
   "cell_type": "code",
   "execution_count": null,
   "metadata": {
    "colab": {
     "base_uri": "https://localhost:8080/",
     "height": 204
    },
    "id": "_ydr09vXo_hM",
    "outputId": "8a6480a0-efed-4089-fef9-e765c0e0a5a7"
   },
   "outputs": [
    {
     "data": {
      "text/html": [
       "<div>\n",
       "<style scoped>\n",
       "    .dataframe tbody tr th:only-of-type {\n",
       "        vertical-align: middle;\n",
       "    }\n",
       "\n",
       "    .dataframe tbody tr th {\n",
       "        vertical-align: top;\n",
       "    }\n",
       "\n",
       "    .dataframe thead th {\n",
       "        text-align: right;\n",
       "    }\n",
       "</style>\n",
       "<table border=\"1\" class=\"dataframe\">\n",
       "  <thead>\n",
       "    <tr style=\"text-align: right;\">\n",
       "      <th></th>\n",
       "      <th>target</th>\n",
       "      <th>text</th>\n",
       "      <th>tweet</th>\n",
       "      <th>processed_tweets</th>\n",
       "    </tr>\n",
       "  </thead>\n",
       "  <tbody>\n",
       "    <tr>\n",
       "      <th>0</th>\n",
       "      <td>0</td>\n",
       "      <td>#brokenpromises...</td>\n",
       "      <td>#brokenpromises...</td>\n",
       "      <td>brokenpromises</td>\n",
       "    </tr>\n",
       "    <tr>\n",
       "      <th>1</th>\n",
       "      <td>0</td>\n",
       "      <td>David Carradine  so sad. Thai's law not sure i...</td>\n",
       "      <td>David Carradine  so sad. Thai's law not sure i...</td>\n",
       "      <td>david carradine sad thai law not sure fowl pla...</td>\n",
       "    </tr>\n",
       "    <tr>\n",
       "      <th>2</th>\n",
       "      <td>4</td>\n",
       "      <td>A @ 415 B @ 425. Tell your bro i say congrats!</td>\n",
       "      <td>A @ 415 B @ 425. Tell your bro i say congrats!</td>\n",
       "      <td>tell your bro say congrats</td>\n",
       "    </tr>\n",
       "    <tr>\n",
       "      <th>3</th>\n",
       "      <td>4</td>\n",
       "      <td>@littlefluffycat  Indeed.</td>\n",
       "      <td>@littlefluffycat  Indeed.</td>\n",
       "      <td>littlefluffycat indeed</td>\n",
       "    </tr>\n",
       "    <tr>\n",
       "      <th>4</th>\n",
       "      <td>4</td>\n",
       "      <td>Completed Race 4 Life in 58mins with girlies f...</td>\n",
       "      <td>Completed Race 4 Life in 58mins with girlies f...</td>\n",
       "      <td>complete race life mins with girlies from work...</td>\n",
       "    </tr>\n",
       "  </tbody>\n",
       "</table>\n",
       "</div>"
      ],
      "text/plain": [
       "   target  ...                                   processed_tweets\n",
       "0       0  ...                                     brokenpromises\n",
       "1       0  ...  david carradine sad thai law not sure fowl pla...\n",
       "2       4  ...                         tell your bro say congrats\n",
       "3       4  ...                             littlefluffycat indeed\n",
       "4       4  ...  complete race life mins with girlies from work...\n",
       "\n",
       "[5 rows x 4 columns]"
      ]
     },
     "execution_count": 8,
     "metadata": {
      "tags": []
     },
     "output_type": "execute_result"
    }
   ],
   "source": [
    "tweetDf['processed_tweets'] = preprocess_text(tweetDf['tweet'])\n",
    "\n",
    "# Dropping empty lines\n",
    "tweetDf.dropna(subset=['processed_tweets'],inplace=True)\n",
    "\n",
    "tweetDf.head(5)"
   ]
  },
  {
   "cell_type": "markdown",
   "metadata": {
    "id": "FyWfWF1EcEcE"
   },
   "source": [
    "Checking average and maximum number of words in tweets"
   ]
  },
  {
   "cell_type": "code",
   "execution_count": null,
   "metadata": {
    "colab": {
     "base_uri": "https://localhost:8080/"
    },
    "id": "bIBRSk2XbwBQ",
    "outputId": "31235565-dfc1-40cc-b464-f89752651bd7"
   },
   "outputs": [
    {
     "name": "stdout",
     "output_type": "stream",
     "text": [
      "Zero-length reviews: 0\n",
      "Maximum review length: 147\n",
      "Average review length:  69\n"
     ]
    }
   ],
   "source": [
    "from statistics import mean\n",
    "from collections import Counter\n",
    "\n",
    "# Outlier review stats\n",
    "tweet_lens = Counter([len(x) for x in tweetDf['processed_tweets']])\n",
    "print(\"Zero-length reviews: {}\".format(tweet_lens[0]))\n",
    "print(\"Maximum review length: {}\".format(max(tweet_lens)))\n",
    "print(\"Average review length: \",int(mean([x for x,y in tweet_lens.items()])))"
   ]
  },
  {
   "cell_type": "markdown",
   "metadata": {
    "id": "WZiGdTU4kzVl"
   },
   "source": [
    "### WordCloud\n",
    "--- \n",
    "For a better evaluation of data"
   ]
  },
  {
   "cell_type": "code",
   "execution_count": null,
   "metadata": {
    "colab": {
     "base_uri": "https://localhost:8080/",
     "height": 303
    },
    "id": "aBzor5pZkzEO",
    "outputId": "17d81601-0530-4909-c67e-499b31e9da5e"
   },
   "outputs": [
    {
     "data": {
      "image/png": "[encoded data removed]",
      "text/plain": [
       "<Figure size 720x360 with 1 Axes>"
      ]
     },
     "metadata": {
      "needs_background": "light",
      "tags": []
     },
     "output_type": "display_data"
    }
   ],
   "source": [
    "import collections\n",
    "# Function that given a list of data will produce a WordCloud\n",
    "def generate_WordCloud(data,stopwords):\n",
    "    textWords = []\n",
    "    for x in data:\n",
    "        for y in word_tokenize(x) :\n",
    "            y = y.lower()\n",
    "            y = WordNetLemmatizer().lemmatize(y)\n",
    "            textWords.append(y)\n",
    "                \n",
    "    counter = collections.Counter(textWords)\n",
    "    words = WordCloud(background_color ='white',stopwords=stopwords,margin=0).generate_from_frequencies(frequencies=dict(counter))\n",
    "\n",
    "    plt.figure(figsize=(10,5))\n",
    "    plt.imshow(words,interpolation='bilinear')\n",
    "    plt.axis(\"off\")\n",
    "    plt.show()\n",
    "generate_WordCloud(tweetDf['processed_tweets'],stopwords)"
   ]
  },
  {
   "cell_type": "markdown",
   "metadata": {
    "id": "pDtbIy5UnALM"
   },
   "source": [
    "### __Label encoder__ for target **values**"
   ]
  },
  {
   "cell_type": "code",
   "execution_count": null,
   "metadata": {
    "id": "Ze983LVwnArD"
   },
   "outputs": [],
   "source": [
    "from sklearn.preprocessing import LabelEncoder\n",
    "le = LabelEncoder() \n",
    "le.fit(tweetDf['target'])    # change string to number for categories\n",
    "tweetDf['target'] = le.transform(tweetDf['target'])"
   ]
  },
  {
   "cell_type": "markdown",
   "metadata": {
    "id": "l6Xtu8Ztv_y0"
   },
   "source": [
    "Encoding\n",
    "- 0 : 0 -> Negative \n",
    "- 1 : 4 -> Positive "
   ]
  },
  {
   "cell_type": "code",
   "execution_count": null,
   "metadata": {
    "colab": {
     "base_uri": "https://localhost:8080/",
     "height": 204
    },
    "id": "u1FXGwHx1Bo8",
    "outputId": "9cba98df-093d-4490-cfe5-d7faf92d8941"
   },
   "outputs": [
    {
     "data": {
      "text/html": [
       "<div>\n",
       "<style scoped>\n",
       "    .dataframe tbody tr th:only-of-type {\n",
       "        vertical-align: middle;\n",
       "    }\n",
       "\n",
       "    .dataframe tbody tr th {\n",
       "        vertical-align: top;\n",
       "    }\n",
       "\n",
       "    .dataframe thead th {\n",
       "        text-align: right;\n",
       "    }\n",
       "</style>\n",
       "<table border=\"1\" class=\"dataframe\">\n",
       "  <thead>\n",
       "    <tr style=\"text-align: right;\">\n",
       "      <th></th>\n",
       "      <th>target</th>\n",
       "      <th>text</th>\n",
       "      <th>tweet</th>\n",
       "      <th>processed_tweets</th>\n",
       "    </tr>\n",
       "  </thead>\n",
       "  <tbody>\n",
       "    <tr>\n",
       "      <th>0</th>\n",
       "      <td>0</td>\n",
       "      <td>#brokenpromises...</td>\n",
       "      <td>#brokenpromises...</td>\n",
       "      <td>brokenpromises</td>\n",
       "    </tr>\n",
       "    <tr>\n",
       "      <th>1</th>\n",
       "      <td>0</td>\n",
       "      <td>David Carradine  so sad. Thai's law not sure i...</td>\n",
       "      <td>David Carradine  so sad. Thai's law not sure i...</td>\n",
       "      <td>david carradine sad thai law not sure fowl pla...</td>\n",
       "    </tr>\n",
       "    <tr>\n",
       "      <th>2</th>\n",
       "      <td>1</td>\n",
       "      <td>A @ 415 B @ 425. Tell your bro i say congrats!</td>\n",
       "      <td>A @ 415 B @ 425. Tell your bro i say congrats!</td>\n",
       "      <td>tell your bro say congrats</td>\n",
       "    </tr>\n",
       "    <tr>\n",
       "      <th>3</th>\n",
       "      <td>1</td>\n",
       "      <td>@littlefluffycat  Indeed.</td>\n",
       "      <td>@littlefluffycat  Indeed.</td>\n",
       "      <td>littlefluffycat indeed</td>\n",
       "    </tr>\n",
       "    <tr>\n",
       "      <th>4</th>\n",
       "      <td>1</td>\n",
       "      <td>Completed Race 4 Life in 58mins with girlies f...</td>\n",
       "      <td>Completed Race 4 Life in 58mins with girlies f...</td>\n",
       "      <td>complete race life mins with girlies from work...</td>\n",
       "    </tr>\n",
       "  </tbody>\n",
       "</table>\n",
       "</div>"
      ],
      "text/plain": [
       "   target  ...                                   processed_tweets\n",
       "0       0  ...                                     brokenpromises\n",
       "1       0  ...  david carradine sad thai law not sure fowl pla...\n",
       "2       1  ...                         tell your bro say congrats\n",
       "3       1  ...                             littlefluffycat indeed\n",
       "4       1  ...  complete race life mins with girlies from work...\n",
       "\n",
       "[5 rows x 4 columns]"
      ]
     },
     "execution_count": 12,
     "metadata": {
      "tags": []
     },
     "output_type": "execute_result"
    }
   ],
   "source": [
    "tweetDf.head(5)"
   ]
  },
  {
   "cell_type": "markdown",
   "metadata": {
    "id": "9wp8npXJgBSh"
   },
   "source": [
    "# __Encoding__ the words\n",
    "\n",
    "In this model I will use GloVe"
   ]
  },
  {
   "cell_type": "markdown",
   "metadata": {
    "id": "TSbQcZmJCwRo"
   },
   "source": [
    "Import of libraries"
   ]
  },
  {
   "cell_type": "code",
   "execution_count": null,
   "metadata": {
    "id": "RYdjLy1OCd95"
   },
   "outputs": [],
   "source": [
    "import torch\n",
    "import torch.nn as nn\n",
    "import numpy as np\n",
    "from sklearn.feature_extraction.text import CountVectorizer,TfidfVectorizer\n",
    "from sklearn.model_selection import StratifiedKFold\n",
    "from torch.utils.data import TensorDataset,DataLoader\n",
    "from sklearn.model_selection import train_test_split\n",
    "from sklearn.metrics import accuracy_score,f1_score,recall_score,precision_score\n",
    "from torchtext import vocab\n",
    "from torchtext.data import Field,Dataset,LabelField,BucketIterator,TabularDataset # TorchText has Text processing Function"
   ]
  },
  {
   "cell_type": "markdown",
   "metadata": {
    "id": "oFG5JJUkgzwU"
   },
   "source": [
    "#### Loading GloVe embeddings"
   ]
  },
  {
   "cell_type": "code",
   "execution_count": null,
   "metadata": {
    "id": "-swIbwKvwTla"
   },
   "outputs": [],
   "source": [
    "from torchtext.vocab import GloVe"
   ]
  },
  {
   "cell_type": "code",
   "execution_count": null,
   "metadata": {
    "id": "1Nnx8VKewT5X"
   },
   "outputs": [],
   "source": [
    "# glove_25 = GloVe(name='twitter.27B', dim=25)"
   ]
  },
  {
   "cell_type": "code",
   "execution_count": null,
   "metadata": {
    "id": "mXXr158caayl"
   },
   "outputs": [],
   "source": [
    "# glove_50 = GloVe(name='twitter.27B', dim=50)"
   ]
  },
  {
   "cell_type": "code",
   "execution_count": null,
   "metadata": {
    "id": "bG9zZQWswJ_J"
   },
   "outputs": [],
   "source": [
    "# glove_100 = GloVe(name='twitter.27B', dim=100)"
   ]
  },
  {
   "cell_type": "code",
   "execution_count": null,
   "metadata": {
    "id": "yJg7OVOawOba"
   },
   "outputs": [],
   "source": [
    "# glove_200 = GloVe(name='twitter.27B', dim=200)"
   ]
  },
  {
   "cell_type": "code",
   "execution_count": null,
   "metadata": {
    "colab": {
     "base_uri": "https://localhost:8080/"
    },
    "id": "hTKXadT1J04M",
    "outputId": "e01dcdc7-c45a-49c4-9998-5e723536dae4"
   },
   "outputs": [
    {
     "name": "stderr",
     "output_type": "stream",
     "text": [
      "100%|█████████▉| 1192341/1193514 [00:40<00:00, 44172.46it/s]\n",
      "  0%|          | 0/1193514 [00:00<?, ?it/s]\u001b[A\n",
      "  0%|          | 2590/1193514 [00:00<00:45, 25897.18it/s]\u001b[A\n",
      "  0%|          | 4459/1193514 [00:00<00:51, 23209.09it/s]\u001b[A\n",
      "  1%|          | 6700/1193514 [00:00<00:51, 22961.53it/s]\u001b[A\n",
      "  1%|          | 8788/1193514 [00:00<00:53, 22291.89it/s]\u001b[A\n",
      "  1%|          | 10814/1193514 [00:00<00:54, 21639.45it/s]\u001b[A\n",
      "  1%|          | 12569/1193514 [00:00<00:58, 20042.94it/s]\u001b[A\n",
      "  1%|          | 14338/1193514 [00:00<01:01, 19272.48it/s]\u001b[A\n",
      "  1%|▏         | 16609/1193514 [00:00<00:58, 20188.83it/s]\u001b[A\n",
      "  2%|▏         | 18888/1193514 [00:00<00:56, 20903.45it/s]\u001b[A\n",
      "  2%|▏         | 21125/1193514 [00:01<00:54, 21321.22it/s]\u001b[A\n",
      "  2%|▏         | 23643/1193514 [00:01<00:52, 22346.78it/s]\u001b[A\n",
      "  2%|▏         | 25922/1193514 [00:01<00:51, 22477.42it/s]\u001b[A\n",
      "  2%|▏         | 28532/1193514 [00:01<00:49, 23452.35it/s]\u001b[A\n",
      "  3%|▎         | 30878/1193514 [00:01<00:50, 22900.83it/s]\u001b[A\n",
      "  3%|▎         | 33237/1193514 [00:01<00:50, 23101.52it/s]\u001b[A\n",
      "  3%|▎         | 35550/1193514 [00:01<00:52, 22258.60it/s]\u001b[A\n",
      "  3%|▎         | 37836/1193514 [00:01<00:51, 22434.51it/s]\u001b[A\n",
      "  3%|▎         | 40086/1193514 [00:01<00:52, 21857.13it/s]\u001b[A\n",
      "  4%|▎         | 42280/1193514 [00:01<00:53, 21345.23it/s]\u001b[A\n",
      "  4%|▎         | 44626/1193514 [00:02<00:52, 21933.64it/s]\u001b[A\n",
      "  4%|▍         | 46866/1193514 [00:02<00:51, 22069.40it/s]\u001b[A\n",
      "  4%|▍         | 49080/1193514 [00:02<00:54, 20809.63it/s]\u001b[A\n",
      "  4%|▍         | 51300/1193514 [00:02<00:53, 21208.07it/s]\u001b[A\n",
      "  4%|▍         | 53470/1193514 [00:02<00:53, 21351.97it/s]\u001b[A\n",
      "  5%|▍         | 55679/1193514 [00:02<00:52, 21567.88it/s]\u001b[A\n",
      "  5%|▍         | 57896/1193514 [00:02<00:52, 21743.16it/s]\u001b[A\n",
      "  5%|▌         | 60090/1193514 [00:02<00:51, 21800.88it/s]\u001b[A\n",
      "  5%|▌         | 62275/1193514 [00:02<00:51, 21784.84it/s]\u001b[A\n",
      "  5%|▌         | 64534/1193514 [00:02<00:51, 22019.77it/s]\u001b[A\n",
      "  6%|▌         | 66739/1193514 [00:03<00:52, 21306.78it/s]\u001b[A\n",
      "  6%|▌         | 69301/1193514 [00:03<00:50, 22438.55it/s]\u001b[A\n",
      "  6%|▌         | 71702/1193514 [00:03<00:49, 22885.77it/s]\u001b[A\n",
      "  6%|▌         | 74294/1193514 [00:03<00:47, 23717.91it/s]\u001b[A\n",
      "  6%|▋         | 76829/1193514 [00:03<00:46, 24184.05it/s]\u001b[A\n",
      "  7%|▋         | 79264/1193514 [00:03<00:47, 23590.29it/s]\u001b[A\n",
      "  7%|▋         | 81638/1193514 [00:03<00:49, 22403.37it/s]\u001b[A\n",
      "  7%|▋         | 83957/1193514 [00:03<00:49, 22631.81it/s]\u001b[A\n",
      "  7%|▋         | 86679/1193514 [00:03<00:46, 23836.28it/s]\u001b[A\n",
      "  7%|▋         | 89254/1193514 [00:04<00:45, 24379.30it/s]\u001b[A\n",
      "  8%|▊         | 91791/1193514 [00:04<00:44, 24665.34it/s]\u001b[A\n",
      "  8%|▊         | 94360/1193514 [00:04<00:44, 24962.20it/s]\u001b[A\n",
      "  8%|▊         | 96869/1193514 [00:04<00:47, 23077.88it/s]\u001b[A\n",
      "  8%|▊         | 99517/1193514 [00:04<00:45, 24002.49it/s]\u001b[A\n",
      "  9%|▊         | 102180/1193514 [00:04<00:44, 24731.87it/s]\u001b[A\n",
      "  9%|▉         | 104684/1193514 [00:04<00:44, 24380.86it/s]\u001b[A\n",
      "  9%|▉         | 107164/1193514 [00:04<00:44, 24503.61it/s]\u001b[A\n",
      "  9%|▉         | 109758/1193514 [00:04<00:43, 24916.33it/s]\u001b[A\n",
      "  9%|▉         | 112380/1193514 [00:04<00:42, 25293.29it/s]\u001b[A\n",
      " 10%|▉         | 115026/1193514 [00:05<00:42, 25630.92it/s]\u001b[A\n",
      " 10%|▉         | 117598/1193514 [00:05<00:44, 23943.79it/s]\u001b[A\n",
      " 10%|█         | 120021/1193514 [00:05<00:46, 23229.03it/s]\u001b[A\n",
      " 10%|█         | 122614/1193514 [00:05<00:44, 23976.17it/s]\u001b[A\n",
      " 10%|█         | 125167/1193514 [00:05<00:43, 24420.37it/s]\u001b[A\n",
      " 11%|█         | 127828/1193514 [00:05<00:42, 25037.56it/s]\u001b[A\n",
      " 11%|█         | 130349/1193514 [00:05<00:43, 24298.26it/s]\u001b[A\n",
      " 11%|█         | 132903/1193514 [00:05<00:43, 24655.96it/s]\u001b[A\n",
      " 11%|█▏        | 135382/1193514 [00:05<00:44, 23888.29it/s]\u001b[A\n",
      " 12%|█▏        | 137785/1193514 [00:06<00:45, 23407.97it/s]\u001b[A\n",
      " 12%|█▏        | 140245/1193514 [00:06<00:44, 23750.95it/s]\u001b[A\n",
      " 12%|█▏        | 142630/1193514 [00:06<00:45, 22872.57it/s]\u001b[A\n",
      " 12%|█▏        | 144931/1193514 [00:06<00:48, 21430.75it/s]\u001b[A\n",
      " 12%|█▏        | 147140/1193514 [00:06<00:48, 21624.18it/s]\u001b[A\n",
      " 13%|█▎        | 149354/1193514 [00:06<00:47, 21775.67it/s]\u001b[A\n",
      " 13%|█▎        | 151546/1193514 [00:06<00:49, 20910.05it/s]\u001b[A\n",
      " 13%|█▎        | 153688/1193514 [00:06<00:49, 21057.82it/s]\u001b[A\n",
      " 13%|█▎        | 155807/1193514 [00:06<00:51, 20092.61it/s]\u001b[A\n",
      " 13%|█▎        | 157969/1193514 [00:06<00:50, 20527.08it/s]\u001b[A\n",
      " 13%|█▎        | 160400/1193514 [00:07<00:47, 21531.70it/s]\u001b[A\n",
      " 14%|█▎        | 162959/1193514 [00:07<00:45, 22605.79it/s]\u001b[A\n",
      " 14%|█▍        | 165477/1193514 [00:07<00:44, 23320.07it/s]\u001b[A\n",
      " 14%|█▍        | 167837/1193514 [00:07<00:45, 22621.16it/s]\u001b[A\n",
      " 14%|█▍        | 170123/1193514 [00:07<00:45, 22536.46it/s]\u001b[A\n",
      " 14%|█▍        | 172394/1193514 [00:07<00:47, 21475.05it/s]\u001b[A\n",
      " 15%|█▍        | 174564/1193514 [00:07<00:47, 21329.97it/s]\u001b[A\n",
      " 15%|█▍        | 177176/1193514 [00:07<00:45, 22569.33it/s]\u001b[A\n",
      " 15%|█▌        | 179501/1193514 [00:07<00:44, 22766.86it/s]\u001b[A\n",
      " 15%|█▌        | 182179/1193514 [00:08<00:42, 23836.78it/s]\u001b[A\n",
      " 15%|█▌        | 184711/1193514 [00:08<00:41, 24262.93it/s]\u001b[A\n",
      " 16%|█▌        | 187160/1193514 [00:08<00:41, 24019.24it/s]\u001b[A\n",
      " 16%|█▌        | 189578/1193514 [00:08<00:43, 23097.78it/s]\u001b[A\n",
      " 16%|█▌        | 191907/1193514 [00:08<00:43, 23100.13it/s]\u001b[A\n",
      " 16%|█▋        | 194352/1193514 [00:08<00:42, 23487.77it/s]\u001b[A\n",
      " 16%|█▋        | 196865/1193514 [00:08<00:41, 23955.68it/s]\u001b[A\n",
      " 17%|█▋        | 199562/1193514 [00:08<00:40, 24786.17it/s]\u001b[A\n",
      " 17%|█▋        | 202055/1193514 [00:08<00:40, 24671.61it/s]\u001b[A\n",
      " 17%|█▋        | 204533/1193514 [00:08<00:43, 22632.80it/s]\u001b[A\n",
      " 17%|█▋        | 206837/1193514 [00:09<00:44, 22268.77it/s]\u001b[A\n",
      " 18%|█▊        | 209356/1193514 [00:09<00:42, 23069.76it/s]\u001b[A\n",
      " 18%|█▊        | 211691/1193514 [00:09<00:44, 22198.10it/s]\u001b[A\n",
      " 18%|█▊        | 214177/1193514 [00:09<00:42, 22934.43it/s]\u001b[A\n",
      " 18%|█▊        | 216859/1193514 [00:09<00:40, 23976.12it/s]\u001b[A\n",
      " 18%|█▊        | 219482/1193514 [00:09<00:39, 24609.97it/s]\u001b[A\n",
      " 19%|█▊        | 221968/1193514 [00:09<00:40, 23776.01it/s]\u001b[A\n",
      " 19%|█▉        | 224370/1193514 [00:09<00:41, 23354.94it/s]\u001b[A\n",
      " 19%|█▉        | 227045/1193514 [00:09<00:39, 24273.42it/s]\u001b[A\n",
      " 19%|█▉        | 229495/1193514 [00:10<00:40, 23788.79it/s]\u001b[A\n",
      " 19%|█▉        | 232056/1193514 [00:10<00:39, 24306.89it/s]\u001b[A\n",
      " 20%|█▉        | 234601/1193514 [00:10<00:38, 24637.16it/s]\u001b[A\n",
      " 20%|█▉        | 237077/1193514 [00:10<00:39, 23955.87it/s]\u001b[A\n",
      " 20%|██        | 239485/1193514 [00:10<00:40, 23454.68it/s]\u001b[A\n",
      " 20%|██        | 241842/1193514 [00:10<00:42, 22483.80it/s]\u001b[A\n",
      " 20%|██        | 244107/1193514 [00:10<00:42, 22160.73it/s]\u001b[A\n",
      " 21%|██        | 246675/1193514 [00:10<00:40, 23108.85it/s]\u001b[A\n",
      " 21%|██        | 249006/1193514 [00:10<00:40, 23109.50it/s]\u001b[A\n",
      " 21%|██        | 251495/1193514 [00:10<00:39, 23613.55it/s]\u001b[A\n",
      " 21%|██▏       | 254065/1193514 [00:11<00:38, 24201.06it/s]\u001b[A\n",
      " 21%|██▏       | 256498/1193514 [00:11<00:39, 23560.78it/s]\u001b[A\n",
      " 22%|██▏       | 258867/1193514 [00:11<00:40, 23232.10it/s]\u001b[A\n",
      " 22%|██▏       | 261200/1193514 [00:11<00:40, 22823.07it/s]\u001b[A\n",
      " 22%|██▏       | 263774/1193514 [00:11<00:39, 23625.94it/s]\u001b[A\n",
      " 22%|██▏       | 266150/1193514 [00:11<00:39, 23332.75it/s]\u001b[A\n",
      " 23%|██▎       | 268783/1193514 [00:11<00:38, 24156.56it/s]\u001b[A\n",
      " 23%|██▎       | 271494/1193514 [00:11<00:36, 24972.27it/s]\u001b[A\n",
      " 23%|██▎       | 274143/1193514 [00:11<00:36, 25407.31it/s]\u001b[A\n",
      " 23%|██▎       | 276707/1193514 [00:11<00:35, 25476.30it/s]\u001b[A\n",
      " 23%|██▎       | 279265/1193514 [00:12<00:37, 24633.08it/s]\u001b[A\n",
      " 24%|██▎       | 281742/1193514 [00:12<00:39, 23331.58it/s]\u001b[A\n",
      " 24%|██▍       | 284370/1193514 [00:12<00:37, 24142.74it/s]\u001b[A\n",
      " 24%|██▍       | 286808/1193514 [00:12<00:38, 23836.28it/s]\u001b[A\n",
      " 24%|██▍       | 289241/1193514 [00:12<00:37, 23980.11it/s]\u001b[A\n",
      " 24%|██▍       | 291652/1193514 [00:12<00:38, 23368.89it/s]\u001b[A\n",
      " 25%|██▍       | 294001/1193514 [00:12<00:39, 22957.75it/s]\u001b[A\n",
      " 25%|██▍       | 296307/1193514 [00:12<00:39, 22753.62it/s]\u001b[A\n",
      " 25%|██▌       | 298590/1193514 [00:12<00:39, 22545.22it/s]\u001b[A\n",
      " 25%|██▌       | 300851/1193514 [00:13<00:39, 22447.01it/s]\u001b[A\n",
      " 25%|██▌       | 303100/1193514 [00:13<00:39, 22261.42it/s]\u001b[A\n",
      " 26%|██▌       | 305330/1193514 [00:13<00:40, 22034.74it/s]\u001b[A\n",
      " 26%|██▌       | 307537/1193514 [00:13<00:40, 21615.63it/s]\u001b[A\n",
      " 26%|██▌       | 310100/1193514 [00:13<00:38, 22681.37it/s]\u001b[A\n",
      " 26%|██▌       | 312385/1193514 [00:13<00:39, 22419.46it/s]\u001b[A\n",
      " 26%|██▋       | 314729/1193514 [00:13<00:38, 22715.94it/s]\u001b[A\n",
      " 27%|██▋       | 317412/1193514 [00:13<00:36, 23810.53it/s]\u001b[A\n",
      " 27%|██▋       | 319916/1193514 [00:13<00:36, 24164.91it/s]\u001b[A\n",
      " 27%|██▋       | 322600/1193514 [00:13<00:34, 24909.44it/s]\u001b[A\n",
      " 27%|██▋       | 325108/1193514 [00:14<00:35, 24215.78it/s]\u001b[A\n",
      " 27%|██▋       | 327546/1193514 [00:14<00:36, 23741.32it/s]\u001b[A\n",
      " 28%|██▊       | 329934/1193514 [00:14<00:37, 23328.48it/s]\u001b[A\n",
      " 28%|██▊       | 332278/1193514 [00:14<00:38, 22204.50it/s]\u001b[A\n",
      " 28%|██▊       | 334840/1193514 [00:14<00:37, 23128.76it/s]\u001b[A\n",
      " 28%|██▊       | 337177/1193514 [00:14<00:37, 22598.17it/s]\u001b[A\n",
      " 28%|██▊       | 339751/1193514 [00:14<00:36, 23455.17it/s]\u001b[A\n",
      " 29%|██▊       | 342415/1193514 [00:14<00:34, 24326.22it/s]\u001b[A\n",
      " 29%|██▉       | 344987/1193514 [00:14<00:34, 24727.96it/s]\u001b[A\n",
      " 29%|██▉       | 347583/1193514 [00:15<00:33, 25083.79it/s]\u001b[A\n",
      " 29%|██▉       | 350106/1193514 [00:15<00:33, 24848.22it/s]\u001b[A\n",
      " 30%|██▉       | 352601/1193514 [00:15<00:35, 23931.77it/s]\u001b[A\n",
      " 30%|██▉       | 355009/1193514 [00:15<00:35, 23802.17it/s]\u001b[A\n",
      " 30%|██▉       | 357498/1193514 [00:15<00:34, 24114.78it/s]\u001b[A\n",
      " 30%|███       | 359918/1193514 [00:15<00:36, 22753.31it/s]\u001b[A\n",
      " 30%|███       | 362215/1193514 [00:15<00:36, 22756.36it/s]\u001b[A\n",
      " 31%|███       | 364872/1193514 [00:15<00:34, 23779.15it/s]\u001b[A\n",
      " 31%|███       | 367450/1193514 [00:15<00:33, 24344.59it/s]\u001b[A\n",
      " 31%|███       | 370056/1193514 [00:15<00:33, 24834.50it/s]\u001b[A\n",
      " 31%|███       | 372731/1193514 [00:16<00:32, 25379.21it/s]\u001b[A\n",
      " 31%|███▏      | 375283/1193514 [00:16<00:34, 23835.21it/s]\u001b[A\n",
      " 32%|███▏      | 377919/1193514 [00:16<00:33, 24540.22it/s]\u001b[A\n",
      " 32%|███▏      | 380399/1193514 [00:16<00:35, 22864.81it/s]\u001b[A\n",
      " 32%|███▏      | 382727/1193514 [00:16<00:37, 21379.28it/s]\u001b[A\n",
      " 32%|███▏      | 384914/1193514 [00:16<00:38, 21048.58it/s]\u001b[A\n",
      " 32%|███▏      | 387054/1193514 [00:16<00:40, 20100.37it/s]\u001b[A\n",
      " 33%|███▎      | 389226/1193514 [00:16<00:39, 20559.96it/s]\u001b[A\n",
      " 33%|███▎      | 391501/1193514 [00:16<00:37, 21170.19it/s]\u001b[A\n",
      " 33%|███▎      | 393753/1193514 [00:17<00:37, 21557.02it/s]\u001b[A\n",
      " 33%|███▎      | 396172/1193514 [00:17<00:35, 22283.36it/s]\u001b[A\n",
      " 33%|███▎      | 398767/1193514 [00:17<00:34, 23269.16it/s]\u001b[A\n",
      " 34%|███▎      | 401475/1193514 [00:17<00:32, 24293.74it/s]\u001b[A\n",
      " 34%|███▍      | 403934/1193514 [00:17<00:33, 23458.58it/s]\u001b[A\n",
      " 34%|███▍      | 406307/1193514 [00:17<00:33, 23420.60it/s]\u001b[A\n",
      " 34%|███▍      | 408668/1193514 [00:17<00:33, 23206.40it/s]\u001b[A\n",
      " 34%|███▍      | 411235/1193514 [00:17<00:32, 23890.96it/s]\u001b[A\n",
      " 35%|███▍      | 413904/1193514 [00:17<00:31, 24666.33it/s]\u001b[A\n",
      " 35%|███▍      | 416388/1193514 [00:17<00:32, 23594.84it/s]\u001b[A\n",
      " 35%|███▌      | 418769/1193514 [00:18<00:33, 23079.82it/s]\u001b[A\n",
      " 35%|███▌      | 421095/1193514 [00:18<00:34, 22434.96it/s]\u001b[A\n",
      " 35%|███▌      | 423355/1193514 [00:18<00:35, 21995.47it/s]\u001b[A\n",
      " 36%|███▌      | 425796/1193514 [00:18<00:33, 22667.33it/s]\u001b[A\n",
      " 36%|███▌      | 428105/1193514 [00:18<00:33, 22791.65it/s]\u001b[A\n",
      " 36%|███▌      | 430714/1193514 [00:18<00:32, 23688.80it/s]\u001b[A\n",
      " 36%|███▋      | 433100/1193514 [00:18<00:32, 23498.17it/s]\u001b[A\n",
      " 36%|███▋      | 435462/1193514 [00:18<00:33, 22901.21it/s]\u001b[A\n",
      " 37%|███▋      | 437764/1193514 [00:18<00:35, 21581.30it/s]\u001b[A\n",
      " 37%|███▋      | 439946/1193514 [00:19<00:35, 21336.33it/s]\u001b[A\n",
      " 37%|███▋      | 442419/1193514 [00:19<00:33, 22251.94it/s]\u001b[A\n",
      " 37%|███▋      | 444688/1193514 [00:19<00:33, 22381.36it/s]\u001b[A\n",
      " 37%|███▋      | 447022/1193514 [00:19<00:32, 22660.07it/s]\u001b[A\n",
      " 38%|███▊      | 449567/1193514 [00:19<00:31, 23428.62it/s]\u001b[A\n",
      " 38%|███▊      | 452298/1193514 [00:19<00:30, 24470.85it/s]\u001b[A\n",
      " 38%|███▊      | 454768/1193514 [00:19<00:30, 24301.47it/s]\u001b[A\n",
      " 38%|███▊      | 457215/1193514 [00:19<00:31, 23524.16it/s]\u001b[A\n",
      " 39%|███▊      | 459585/1193514 [00:19<00:31, 23146.12it/s]\u001b[A\n",
      " 39%|███▊      | 462240/1193514 [00:19<00:30, 24069.06it/s]\u001b[A\n",
      " 39%|███▉      | 464727/1193514 [00:20<00:29, 24303.80it/s]\u001b[A\n",
      " 39%|███▉      | 467171/1193514 [00:20<00:30, 23791.30it/s]\u001b[A\n",
      " 39%|███▉      | 469696/1193514 [00:20<00:29, 24210.14it/s]\u001b[A\n",
      " 40%|███▉      | 472128/1193514 [00:20<00:30, 23968.19it/s]\u001b[A\n",
      " 40%|███▉      | 474533/1193514 [00:20<00:30, 23951.75it/s]\u001b[A\n",
      " 40%|███▉      | 476934/1193514 [00:20<00:32, 21804.45it/s]\u001b[A\n",
      " 40%|████      | 479496/1193514 [00:20<00:31, 22823.96it/s]\u001b[A\n",
      " 40%|████      | 482172/1193514 [00:20<00:29, 23875.79it/s]\u001b[A\n",
      " 41%|████      | 484753/1193514 [00:20<00:29, 24424.01it/s]\u001b[A\n",
      " 41%|████      | 487355/1193514 [00:21<00:28, 24880.92it/s]\u001b[A\n",
      " 41%|████      | 489996/1193514 [00:21<00:27, 25318.58it/s]\u001b[A\n",
      " 41%|████▏     | 492547/1193514 [00:21<00:28, 24205.54it/s]\u001b[A\n",
      " 41%|████▏     | 494992/1193514 [00:21<00:28, 24133.74it/s]\u001b[A\n",
      " 42%|████▏     | 497608/1193514 [00:21<00:28, 24704.56it/s]\u001b[A\n",
      " 42%|████▏     | 500189/1193514 [00:21<00:27, 25024.74it/s]\u001b[A\n",
      " 42%|████▏     | 502703/1193514 [00:21<00:28, 24545.30it/s]\u001b[A\n",
      " 42%|████▏     | 505297/1193514 [00:21<00:27, 24945.79it/s]\u001b[A\n",
      " 43%|████▎     | 507837/1193514 [00:21<00:27, 25080.31it/s]\u001b[A\n",
      " 43%|████▎     | 510352/1193514 [00:21<00:28, 23719.34it/s]\u001b[A\n",
      " 43%|████▎     | 512744/1193514 [00:22<00:29, 23373.60it/s]\u001b[A\n",
      " 43%|████▎     | 515306/1193514 [00:22<00:28, 24004.05it/s]\u001b[A\n",
      " 43%|████▎     | 517817/1193514 [00:22<00:27, 24323.54it/s]\u001b[A\n",
      " 44%|████▎     | 520261/1193514 [00:22<00:29, 22593.20it/s]\u001b[A\n",
      " 44%|████▍     | 522553/1193514 [00:22<00:30, 21931.95it/s]\u001b[A\n",
      " 44%|████▍     | 524774/1193514 [00:22<00:31, 21535.10it/s]\u001b[A\n",
      " 44%|████▍     | 526949/1193514 [00:22<00:31, 21358.59it/s]\u001b[A\n",
      " 44%|████▍     | 529148/1193514 [00:22<00:30, 21543.50it/s]\u001b[A\n",
      " 45%|████▍     | 531342/1193514 [00:22<00:30, 21659.90it/s]\u001b[A\n",
      " 45%|████▍     | 533584/1193514 [00:23<00:30, 21882.23it/s]\u001b[A\n",
      " 45%|████▍     | 535779/1193514 [00:23<00:30, 21254.24it/s]\u001b[A\n",
      " 45%|████▌     | 537913/1193514 [00:23<00:30, 21185.86it/s]\u001b[A\n",
      " 45%|████▌     | 540513/1193514 [00:23<00:29, 22420.13it/s]\u001b[A\n",
      " 45%|████▌     | 543037/1193514 [00:23<00:28, 23196.12it/s]\u001b[A\n",
      " 46%|████▌     | 545380/1193514 [00:23<00:28, 23101.04it/s]\u001b[A\n",
      " 46%|████▌     | 547781/1193514 [00:23<00:27, 23364.41it/s]\u001b[A\n",
      " 46%|████▌     | 550130/1193514 [00:23<00:29, 21978.30it/s]\u001b[A\n",
      " 46%|████▋     | 552409/1193514 [00:23<00:28, 22214.52it/s]\u001b[A\n",
      " 47%|████▋     | 555012/1193514 [00:23<00:27, 23236.07it/s]\u001b[A\n",
      " 47%|████▋     | 557681/1193514 [00:24<00:26, 24174.21it/s]\u001b[A\n",
      " 47%|████▋     | 560126/1193514 [00:24<00:26, 23593.88it/s]\u001b[A\n",
      " 47%|████▋     | 562761/1193514 [00:24<00:25, 24357.08it/s]\u001b[A\n",
      " 47%|████▋     | 565219/1193514 [00:24<00:28, 22172.93it/s]\u001b[A\n",
      " 48%|████▊     | 567490/1193514 [00:24<00:29, 21234.78it/s]\u001b[A\n",
      " 48%|████▊     | 569660/1193514 [00:24<00:29, 20894.82it/s]\u001b[A\n",
      " 48%|████▊     | 571783/1193514 [00:24<00:31, 19865.56it/s]\u001b[A\n",
      " 48%|████▊     | 573908/1193514 [00:24<00:30, 20260.80it/s]\u001b[A\n",
      " 48%|████▊     | 575960/1193514 [00:24<00:31, 19657.47it/s]\u001b[A\n",
      " 48%|████▊     | 578114/1193514 [00:25<00:30, 20185.98it/s]\u001b[A\n",
      " 49%|████▊     | 580377/1193514 [00:25<00:29, 20861.40it/s]\u001b[A\n",
      " 49%|████▉     | 582872/1193514 [00:25<00:27, 21936.59it/s]\u001b[A\n",
      " 49%|████▉     | 585094/1193514 [00:25<00:27, 21873.56it/s]\u001b[A\n",
      " 49%|████▉     | 587717/1193514 [00:25<00:26, 23020.02it/s]\u001b[A\n",
      " 49%|████▉     | 590049/1193514 [00:25<00:27, 21722.78it/s]\u001b[A\n",
      " 50%|████▉     | 592277/1193514 [00:25<00:27, 21885.82it/s]\u001b[A\n",
      " 50%|████▉     | 594510/1193514 [00:25<00:27, 22015.07it/s]\u001b[A\n",
      " 50%|█████     | 596933/1193514 [00:25<00:26, 22633.99it/s]\u001b[A\n",
      " 50%|█████     | 599616/1193514 [00:25<00:25, 23747.67it/s]\u001b[A\n",
      " 50%|█████     | 602018/1193514 [00:26<00:25, 23298.84it/s]\u001b[A\n",
      " 51%|█████     | 604369/1193514 [00:26<00:25, 22846.77it/s]\u001b[A\n",
      " 51%|█████     | 606670/1193514 [00:26<00:26, 22287.31it/s]\u001b[A\n",
      " 51%|█████     | 608914/1193514 [00:26<00:26, 22112.22it/s]\u001b[A\n",
      " 51%|█████     | 611136/1193514 [00:26<00:26, 22027.48it/s]\u001b[A\n",
      " 51%|█████▏    | 613347/1193514 [00:26<00:26, 21575.18it/s]\u001b[A\n",
      " 52%|█████▏    | 615512/1193514 [00:26<00:27, 20944.90it/s]\u001b[A\n",
      " 52%|█████▏    | 618112/1193514 [00:26<00:25, 22241.94it/s]\u001b[A\n",
      " 52%|█████▏    | 620389/1193514 [00:26<00:25, 22395.77it/s]\u001b[A\n",
      " 52%|█████▏    | 623060/1193514 [00:27<00:24, 23535.19it/s]\u001b[A\n",
      " 52%|█████▏    | 625443/1193514 [00:27<00:24, 23303.14it/s]\u001b[A\n",
      " 53%|█████▎    | 627795/1193514 [00:27<00:24, 22749.50it/s]\u001b[A\n",
      " 53%|█████▎    | 630256/1193514 [00:27<00:24, 23275.17it/s]\u001b[A\n",
      " 53%|█████▎    | 632599/1193514 [00:27<00:24, 22774.58it/s]\u001b[A\n",
      " 53%|█████▎    | 634890/1193514 [00:27<00:25, 21863.11it/s]\u001b[A\n",
      " 53%|█████▎    | 637094/1193514 [00:27<00:26, 21170.09it/s]\u001b[A\n",
      " 54%|█████▎    | 639228/1193514 [00:27<00:26, 21020.89it/s]\u001b[A\n",
      " 54%|█████▎    | 641448/1193514 [00:27<00:25, 21359.28it/s]\u001b[A\n",
      " 54%|█████▍    | 643594/1193514 [00:27<00:26, 20903.01it/s]\u001b[A\n",
      " 54%|█████▍    | 645825/1193514 [00:28<00:25, 21305.81it/s]\u001b[A\n",
      " 54%|█████▍    | 647964/1193514 [00:28<00:27, 20198.75it/s]\u001b[A\n",
      " 54%|█████▍    | 650307/1193514 [00:28<00:25, 21069.35it/s]\u001b[A\n",
      " 55%|█████▍    | 652871/1193514 [00:28<00:24, 22258.71it/s]\u001b[A\n",
      " 55%|█████▍    | 655481/1193514 [00:28<00:23, 23285.56it/s]\u001b[A\n",
      " 55%|█████▌    | 657846/1193514 [00:28<00:23, 22500.76it/s]\u001b[A\n",
      " 55%|█████▌    | 660260/1193514 [00:28<00:23, 22967.35it/s]\u001b[A\n",
      " 56%|█████▌    | 662581/1193514 [00:28<00:23, 22428.68it/s]\u001b[A\n",
      " 56%|█████▌    | 664844/1193514 [00:28<00:23, 22059.09it/s]\u001b[A\n",
      " 56%|█████▌    | 667065/1193514 [00:29<00:25, 20703.00it/s]\u001b[A\n",
      " 56%|█████▌    | 669370/1193514 [00:29<00:24, 21354.81it/s]\u001b[A\n",
      " 56%|█████▋    | 671955/1193514 [00:29<00:23, 22529.48it/s]\u001b[A\n",
      " 56%|█████▋    | 674243/1193514 [00:29<00:23, 21928.07it/s]\u001b[A\n",
      " 57%|█████▋    | 676464/1193514 [00:29<00:23, 21994.92it/s]\u001b[A\n",
      " 57%|█████▋    | 678683/1193514 [00:29<00:23, 21656.08it/s]\u001b[A\n",
      " 57%|█████▋    | 680864/1193514 [00:29<00:23, 21532.49it/s]\u001b[A\n",
      " 57%|█████▋    | 683061/1193514 [00:29<00:23, 21659.40it/s]\u001b[A\n",
      " 57%|█████▋    | 685235/1193514 [00:29<00:23, 21242.33it/s]\u001b[A\n",
      " 58%|█████▊    | 687375/1193514 [00:29<00:23, 21287.74it/s]\u001b[A\n",
      " 58%|█████▊    | 689616/1193514 [00:30<00:23, 21611.41it/s]\u001b[A\n",
      " 58%|█████▊    | 691782/1193514 [00:30<00:23, 21590.23it/s]\u001b[A\n",
      " 58%|█████▊    | 693945/1193514 [00:30<00:24, 20600.84it/s]\u001b[A\n",
      " 58%|█████▊    | 696017/1193514 [00:30<00:24, 20369.32it/s]\u001b[A\n",
      " 59%|█████▊    | 698211/1193514 [00:30<00:23, 20814.45it/s]\u001b[A\n",
      " 59%|█████▊    | 700302/1193514 [00:30<00:23, 20805.98it/s]\u001b[A\n",
      " 59%|█████▉    | 702429/1193514 [00:30<00:23, 20942.81it/s]\u001b[A\n",
      " 59%|█████▉    | 704528/1193514 [00:30<00:23, 20604.07it/s]\u001b[A\n",
      " 59%|█████▉    | 706593/1193514 [00:30<00:23, 20471.45it/s]\u001b[A\n",
      " 59%|█████▉    | 708644/1193514 [00:31<00:25, 19203.34it/s]\u001b[A\n",
      " 60%|█████▉    | 711134/1193514 [00:31<00:23, 20617.46it/s]\u001b[A\n",
      " 60%|█████▉    | 713782/1193514 [00:31<00:21, 22083.12it/s]\u001b[A\n",
      " 60%|██████    | 716129/1193514 [00:31<00:21, 22480.79it/s]\u001b[A\n",
      " 60%|██████    | 718796/1193514 [00:31<00:20, 23590.62it/s]\u001b[A\n",
      " 60%|██████    | 721200/1193514 [00:31<00:21, 21871.99it/s]\u001b[A\n",
      " 61%|██████    | 723444/1193514 [00:31<00:21, 21443.41it/s]\u001b[A\n",
      " 61%|██████    | 725630/1193514 [00:31<00:22, 21209.18it/s]\u001b[A\n",
      " 61%|██████    | 727781/1193514 [00:31<00:22, 21106.00it/s]\u001b[A\n",
      " 61%|██████    | 729982/1193514 [00:31<00:21, 21366.51it/s]\u001b[A\n",
      " 61%|██████▏   | 732134/1193514 [00:32<00:21, 21061.69it/s]\u001b[A\n",
      " 62%|██████▏   | 734252/1193514 [00:32<00:21, 21040.34it/s]\u001b[A\n",
      " 62%|██████▏   | 736365/1193514 [00:32<00:22, 20468.23it/s]\u001b[A\n",
      " 62%|██████▏   | 739016/1193514 [00:32<00:20, 21969.64it/s]\u001b[A\n",
      " 62%|██████▏   | 741536/1193514 [00:32<00:19, 22846.26it/s]\u001b[A\n",
      " 62%|██████▏   | 743964/1193514 [00:32<00:19, 23257.08it/s]\u001b[A\n",
      " 63%|██████▎   | 746533/1193514 [00:32<00:18, 23936.14it/s]\u001b[A\n",
      " 63%|██████▎   | 748951/1193514 [00:32<00:18, 23730.02it/s]\u001b[A\n",
      " 63%|██████▎   | 751341/1193514 [00:32<00:18, 23454.91it/s]\u001b[A\n",
      " 63%|██████▎   | 753699/1193514 [00:33<00:19, 22997.02it/s]\u001b[A\n",
      " 63%|██████▎   | 756298/1193514 [00:33<00:18, 23819.47it/s]\u001b[A\n",
      " 64%|██████▎   | 758886/1193514 [00:33<00:17, 24402.24it/s]\u001b[A\n",
      " 64%|██████▍   | 761341/1193514 [00:33<00:17, 24195.12it/s]\u001b[A\n",
      " 64%|██████▍   | 763771/1193514 [00:33<00:18, 23712.47it/s]\u001b[A\n",
      " 64%|██████▍   | 766152/1193514 [00:33<00:19, 21390.41it/s]\u001b[A\n",
      " 64%|██████▍   | 768341/1193514 [00:33<00:20, 20973.29it/s]\u001b[A\n",
      " 65%|██████▍   | 770475/1193514 [00:33<00:20, 20486.66it/s]\u001b[A\n",
      " 65%|██████▍   | 772838/1193514 [00:33<00:19, 21337.70it/s]\u001b[A\n",
      " 65%|██████▍   | 775001/1193514 [00:33<00:20, 20061.23it/s]\u001b[A\n",
      " 65%|██████▌   | 777187/1193514 [00:34<00:20, 20568.92it/s]\u001b[A\n",
      " 65%|██████▌   | 779273/1193514 [00:34<00:20, 20646.51it/s]\u001b[A\n",
      " 65%|██████▌   | 781470/1193514 [00:34<00:19, 21026.18it/s]\u001b[A\n",
      " 66%|██████▌   | 783589/1193514 [00:34<00:20, 19691.07it/s]\u001b[A\n",
      " 66%|██████▌   | 785587/1193514 [00:34<00:21, 19377.02it/s]\u001b[A\n",
      " 66%|██████▌   | 787611/1193514 [00:34<00:20, 19626.20it/s]\u001b[A\n",
      " 66%|██████▌   | 790024/1193514 [00:34<00:19, 20790.01it/s]\u001b[A\n",
      " 66%|██████▋   | 792626/1193514 [00:34<00:18, 22123.75it/s]\u001b[A\n",
      " 67%|██████▋   | 795174/1193514 [00:34<00:17, 23032.78it/s]\u001b[A\n",
      " 67%|██████▋   | 797623/1193514 [00:35<00:16, 23449.99it/s]\u001b[A\n",
      " 67%|██████▋   | 799999/1193514 [00:35<00:17, 22188.60it/s]\u001b[A\n",
      " 67%|██████▋   | 802531/1193514 [00:35<00:16, 23041.99it/s]\u001b[A\n",
      " 67%|██████▋   | 804869/1193514 [00:35<00:16, 23005.25it/s]\u001b[A\n",
      " 68%|██████▊   | 807315/1193514 [00:35<00:16, 23417.71it/s]\u001b[A\n",
      " 68%|██████▊   | 809675/1193514 [00:35<00:16, 22837.04it/s]\u001b[A\n",
      " 68%|██████▊   | 811975/1193514 [00:35<00:17, 22404.95it/s]\u001b[A\n",
      " 68%|██████▊   | 814232/1193514 [00:35<00:16, 22453.66it/s]\u001b[A\n",
      " 68%|██████▊   | 816718/1193514 [00:35<00:16, 23124.73it/s]\u001b[A\n",
      " 69%|██████▊   | 819160/1193514 [00:35<00:15, 23496.68it/s]\u001b[A\n",
      " 69%|██████▉   | 821792/1193514 [00:36<00:15, 24277.34it/s]\u001b[A\n",
      " 69%|██████▉   | 824233/1193514 [00:36<00:15, 24131.47it/s]\u001b[A\n",
      " 69%|██████▉   | 826787/1193514 [00:36<00:14, 24534.45it/s]\u001b[A\n",
      " 69%|██████▉   | 829364/1193514 [00:36<00:14, 24891.45it/s]\u001b[A\n",
      " 70%|██████▉   | 831861/1193514 [00:36<00:14, 24831.55it/s]\u001b[A\n",
      " 70%|██████▉   | 834420/1193514 [00:36<00:14, 25050.31it/s]\u001b[A\n",
      " 70%|███████   | 836929/1193514 [00:36<00:14, 24239.18it/s]\u001b[A\n",
      " 70%|███████   | 839362/1193514 [00:36<00:15, 23065.52it/s]\u001b[A\n",
      " 71%|███████   | 841956/1193514 [00:36<00:14, 23856.94it/s]\u001b[A\n",
      " 71%|███████   | 844362/1193514 [00:37<00:15, 22707.65it/s]\u001b[A\n",
      " 71%|███████   | 846787/1193514 [00:37<00:14, 23148.77it/s]\u001b[A\n",
      " 71%|███████   | 849128/1193514 [00:37<00:14, 23224.36it/s]\u001b[A\n",
      " 71%|███████▏  | 851465/1193514 [00:37<00:15, 22018.82it/s]\u001b[A\n",
      " 72%|███████▏  | 853985/1193514 [00:37<00:14, 22884.77it/s]\u001b[A\n",
      " 72%|███████▏  | 856299/1193514 [00:37<00:15, 21565.70it/s]\u001b[A\n",
      " 72%|███████▏  | 858489/1193514 [00:37<00:15, 21094.44it/s]\u001b[A\n",
      " 72%|███████▏  | 860790/1193514 [00:37<00:15, 21634.58it/s]\u001b[A\n",
      " 72%|███████▏  | 863033/1193514 [00:37<00:15, 21865.45it/s]\u001b[A\n",
      " 72%|███████▏  | 865235/1193514 [00:37<00:15, 21689.87it/s]\u001b[A\n",
      " 73%|███████▎  | 867416/1193514 [00:38<00:15, 21206.15it/s]\u001b[A\n",
      " 73%|███████▎  | 869850/1193514 [00:38<00:14, 22057.82it/s]\u001b[A\n",
      " 73%|███████▎  | 872245/1193514 [00:38<00:14, 22592.67it/s]\u001b[A\n",
      " 73%|███████▎  | 874739/1193514 [00:38<00:13, 23248.60it/s]\u001b[A\n",
      " 73%|███████▎  | 877219/1193514 [00:38<00:13, 23692.68it/s]\u001b[A\n",
      " 74%|███████▎  | 879846/1193514 [00:38<00:12, 24408.88it/s]\u001b[A\n",
      " 74%|███████▍  | 882302/1193514 [00:38<00:12, 24206.25it/s]\u001b[A\n",
      " 74%|███████▍  | 884733/1193514 [00:38<00:13, 23728.94it/s]\u001b[A\n",
      " 74%|███████▍  | 887116/1193514 [00:38<00:13, 23082.07it/s]\u001b[A\n",
      " 75%|███████▍  | 889552/1193514 [00:38<00:12, 23449.00it/s]\u001b[A\n",
      " 75%|███████▍  | 892226/1193514 [00:39<00:12, 24346.77it/s]\u001b[A\n",
      " 75%|███████▍  | 894773/1193514 [00:39<00:12, 24671.39it/s]\u001b[A\n",
      " 75%|███████▌  | 897252/1193514 [00:39<00:12, 23769.29it/s]\u001b[A\n",
      " 75%|███████▌  | 899645/1193514 [00:39<00:12, 23613.55it/s]\u001b[A\n",
      " 76%|███████▌  | 902044/1193514 [00:39<00:12, 23724.96it/s]\u001b[A\n",
      " 76%|███████▌  | 904662/1193514 [00:39<00:11, 24410.00it/s]\u001b[A\n",
      " 76%|███████▌  | 907114/1193514 [00:39<00:12, 23787.96it/s]\u001b[A\n",
      " 76%|███████▌  | 909504/1193514 [00:39<00:12, 23629.51it/s]\u001b[A\n",
      " 76%|███████▋  | 912030/1193514 [00:39<00:11, 24093.99it/s]\u001b[A\n",
      " 77%|███████▋  | 914546/1193514 [00:40<00:11, 24403.21it/s]\u001b[A\n",
      " 77%|███████▋  | 916993/1193514 [00:40<00:11, 23971.43it/s]\u001b[A\n",
      " 77%|███████▋  | 919570/1193514 [00:40<00:11, 24483.82it/s]\u001b[A\n",
      " 77%|███████▋  | 922026/1193514 [00:40<00:11, 23068.07it/s]\u001b[A\n",
      " 77%|███████▋  | 924355/1193514 [00:40<00:12, 21863.12it/s]\u001b[A\n",
      " 78%|███████▊  | 926583/1193514 [00:40<00:12, 21984.17it/s]\u001b[A\n",
      " 78%|███████▊  | 928802/1193514 [00:40<00:12, 21669.12it/s]\u001b[A\n",
      " 78%|███████▊  | 930984/1193514 [00:40<00:13, 19907.65it/s]\u001b[A\n",
      " 78%|███████▊  | 933160/1193514 [00:40<00:12, 20428.79it/s]\u001b[A\n",
      " 78%|███████▊  | 935755/1193514 [00:41<00:11, 21821.16it/s]\u001b[A\n",
      " 79%|███████▊  | 938218/1193514 [00:41<00:11, 22593.00it/s]\u001b[A\n",
      " 79%|███████▉  | 940518/1193514 [00:41<00:11, 22018.91it/s]\u001b[A\n",
      " 79%|███████▉  | 942752/1193514 [00:41<00:11, 21687.33it/s]\u001b[A\n",
      " 79%|███████▉  | 944944/1193514 [00:41<00:11, 21491.93it/s]\u001b[A\n",
      " 79%|███████▉  | 947110/1193514 [00:41<00:11, 21349.54it/s]\u001b[A\n",
      " 80%|███████▉  | 949257/1193514 [00:41<00:11, 21360.96it/s]\u001b[A\n",
      " 80%|███████▉  | 951402/1193514 [00:41<00:11, 20589.59it/s]\u001b[A\n",
      " 80%|███████▉  | 953847/1193514 [00:41<00:11, 21612.18it/s]\u001b[A\n",
      " 80%|████████  | 956435/1193514 [00:41<00:10, 22736.21it/s]\u001b[A\n",
      " 80%|████████  | 958800/1193514 [00:42<00:10, 23000.98it/s]\u001b[A\n",
      " 81%|████████  | 961395/1193514 [00:42<00:09, 23810.28it/s]\u001b[A\n",
      " 81%|████████  | 963909/1193514 [00:42<00:09, 24192.05it/s]\u001b[A\n",
      " 81%|████████  | 966346/1193514 [00:42<00:09, 23673.78it/s]\u001b[A\n",
      " 81%|████████  | 968729/1193514 [00:42<00:09, 22760.27it/s]\u001b[A\n",
      " 81%|████████▏ | 971174/1193514 [00:42<00:09, 23240.40it/s]\u001b[A\n",
      " 82%|████████▏ | 973708/1193514 [00:42<00:09, 23831.59it/s]\u001b[A\n",
      " 82%|████████▏ | 976177/1193514 [00:42<00:09, 24080.43it/s]\u001b[A\n",
      " 82%|████████▏ | 978738/1193514 [00:42<00:08, 24518.60it/s]\u001b[A\n",
      " 82%|████████▏ | 981200/1193514 [00:42<00:08, 23643.50it/s]\u001b[A\n",
      " 82%|████████▏ | 983846/1193514 [00:43<00:08, 24422.37it/s]\u001b[A\n",
      " 83%|████████▎ | 986305/1193514 [00:43<00:08, 23639.55it/s]\u001b[A\n",
      " 83%|████████▎ | 988863/1193514 [00:43<00:08, 24185.63it/s]\u001b[A\n",
      " 83%|████████▎ | 991297/1193514 [00:43<00:08, 22883.99it/s]\u001b[A\n",
      " 83%|████████▎ | 993611/1193514 [00:43<00:09, 21552.49it/s]\u001b[A\n",
      " 83%|████████▎ | 995800/1193514 [00:43<00:09, 21617.90it/s]\u001b[A\n",
      " 84%|████████▎ | 997986/1193514 [00:43<00:09, 20862.78it/s]\u001b[A\n",
      " 84%|████████▍ | 1000125/1193514 [00:43<00:09, 21016.14it/s]\u001b[A\n",
      " 84%|████████▍ | 1002606/1193514 [00:43<00:08, 22025.41it/s]\u001b[A\n",
      " 84%|████████▍ | 1005188/1193514 [00:44<00:08, 23040.59it/s]\u001b[A\n",
      " 84%|████████▍ | 1007808/1193514 [00:44<00:07, 23904.49it/s]\u001b[A\n",
      " 85%|████████▍ | 1010463/1193514 [00:44<00:07, 24640.56it/s]\u001b[A\n",
      " 85%|████████▍ | 1012953/1193514 [00:44<00:07, 24329.67it/s]\u001b[A\n",
      " 85%|████████▌ | 1015405/1193514 [00:44<00:07, 23438.97it/s]\u001b[A\n",
      " 85%|████████▌ | 1017770/1193514 [00:44<00:07, 22493.98it/s]\u001b[A\n",
      " 85%|████████▌ | 1020042/1193514 [00:44<00:07, 22377.57it/s]\u001b[A\n",
      " 86%|████████▌ | 1022296/1193514 [00:44<00:08, 20691.85it/s]\u001b[A\n",
      " 86%|████████▌ | 1024425/1193514 [00:44<00:08, 20865.78it/s]\u001b[A\n",
      " 86%|████████▌ | 1026538/1193514 [00:45<00:08, 20673.97it/s]\u001b[A\n",
      " 86%|████████▌ | 1028898/1193514 [00:45<00:07, 21471.71it/s]\u001b[A\n",
      " 86%|████████▋ | 1031500/1193514 [00:45<00:07, 22658.78it/s]\u001b[A\n",
      " 87%|████████▋ | 1033798/1193514 [00:45<00:07, 22525.07it/s]\u001b[A\n",
      " 87%|████████▋ | 1036393/1193514 [00:45<00:06, 23453.34it/s]\u001b[A\n",
      " 87%|████████▋ | 1038984/1193514 [00:45<00:06, 24138.79it/s]\u001b[A\n",
      " 87%|████████▋ | 1041528/1193514 [00:45<00:06, 24514.22it/s]\u001b[A\n",
      " 87%|████████▋ | 1044170/1193514 [00:45<00:05, 25056.23it/s]\u001b[A\n",
      " 88%|████████▊ | 1046691/1193514 [00:45<00:06, 23917.61it/s]\u001b[A\n",
      " 88%|████████▊ | 1049233/1193514 [00:45<00:05, 24347.55it/s]\u001b[A\n",
      " 88%|████████▊ | 1051685/1193514 [00:46<00:05, 23730.23it/s]\u001b[A\n",
      " 88%|████████▊ | 1054074/1193514 [00:46<00:05, 23354.46it/s]\u001b[A\n",
      " 89%|████████▊ | 1056511/1193514 [00:46<00:05, 23648.95it/s]\u001b[A\n",
      " 89%|████████▊ | 1058886/1193514 [00:46<00:05, 22804.38it/s]\u001b[A\n",
      " 89%|████████▉ | 1061180/1193514 [00:46<00:05, 22087.30it/s]\u001b[A\n",
      " 89%|████████▉ | 1063480/1193514 [00:46<00:05, 22351.51it/s]\u001b[A\n",
      " 89%|████████▉ | 1065954/1193514 [00:46<00:05, 23015.47it/s]\u001b[A\n",
      " 90%|████████▉ | 1068353/1193514 [00:46<00:05, 23297.28it/s]\u001b[A\n",
      " 90%|████████▉ | 1070937/1193514 [00:46<00:05, 24004.86it/s]\u001b[A\n",
      " 90%|████████▉ | 1073350/1193514 [00:46<00:05, 23413.24it/s]\u001b[A\n",
      " 90%|█████████ | 1075763/1193514 [00:47<00:04, 23622.26it/s]\u001b[A\n",
      " 90%|█████████ | 1078207/1193514 [00:47<00:04, 23859.09it/s]\u001b[A\n",
      " 91%|█████████ | 1080755/1193514 [00:47<00:04, 24322.74it/s]\u001b[A\n",
      " 91%|█████████ | 1083195/1193514 [00:47<00:04, 23791.19it/s]\u001b[A\n",
      " 91%|█████████ | 1085582/1193514 [00:47<00:04, 23476.16it/s]\u001b[A\n",
      " 91%|█████████ | 1087936/1193514 [00:47<00:04, 23429.73it/s]\u001b[A\n",
      " 91%|█████████▏| 1090284/1193514 [00:47<00:04, 22847.23it/s]\u001b[A\n",
      " 92%|█████████▏| 1092575/1193514 [00:47<00:04, 22146.01it/s]\u001b[A\n",
      " 92%|█████████▏| 1094846/1193514 [00:47<00:04, 22310.87it/s]\u001b[A\n",
      " 92%|█████████▏| 1097359/1193514 [00:48<00:04, 23086.01it/s]\u001b[A\n",
      " 92%|█████████▏| 1099797/1193514 [00:48<00:03, 23459.41it/s]\u001b[A\n",
      " 92%|█████████▏| 1102153/1193514 [00:48<00:04, 22394.96it/s]\u001b[A\n",
      " 93%|█████████▎| 1104566/1193514 [00:48<00:03, 22886.79it/s]\u001b[A\n",
      " 93%|█████████▎| 1107147/1193514 [00:48<00:03, 23690.43it/s]\u001b[A\n",
      " 93%|█████████▎| 1109731/1193514 [00:48<00:03, 24295.21it/s]\u001b[A\n",
      " 93%|█████████▎| 1112177/1193514 [00:48<00:03, 23892.06it/s]\u001b[A\n",
      " 93%|█████████▎| 1114579/1193514 [00:48<00:03, 23069.40it/s]\u001b[A\n",
      " 94%|█████████▎| 1116901/1193514 [00:48<00:03, 23090.46it/s]\u001b[A\n",
      " 94%|█████████▍| 1119475/1193514 [00:48<00:03, 23824.45it/s]\u001b[A\n",
      " 94%|█████████▍| 1121942/1193514 [00:49<00:02, 24071.67it/s]\u001b[A\n",
      " 94%|█████████▍| 1124360/1193514 [00:49<00:03, 22885.07it/s]\u001b[A\n",
      " 94%|█████████▍| 1126745/1193514 [00:49<00:02, 23165.29it/s]\u001b[A\n",
      " 95%|█████████▍| 1129213/1193514 [00:49<00:02, 23598.81it/s]\u001b[A\n",
      " 95%|█████████▍| 1131585/1193514 [00:49<00:02, 22929.95it/s]\u001b[A\n",
      " 95%|█████████▌| 1133891/1193514 [00:49<00:02, 20907.12it/s]\u001b[A\n",
      " 95%|█████████▌| 1136046/1193514 [00:49<00:02, 21094.82it/s]\u001b[A\n",
      " 95%|█████████▌| 1138187/1193514 [00:49<00:02, 19584.22it/s]\u001b[A\n",
      " 96%|█████████▌| 1140255/1193514 [00:49<00:02, 19900.36it/s]\u001b[A\n",
      " 96%|█████████▌| 1142362/1193514 [00:50<00:02, 20237.12it/s]\u001b[A\n",
      " 96%|█████████▌| 1144485/1193514 [00:50<00:02, 20524.16it/s]\u001b[A\n",
      " 96%|█████████▌| 1146574/1193514 [00:50<00:02, 20630.85it/s]\u001b[A\n",
      " 96%|█████████▋| 1148788/1193514 [00:50<00:02, 21059.31it/s]\u001b[A\n",
      " 96%|█████████▋| 1150928/1193514 [00:50<00:02, 21158.15it/s]\u001b[A\n",
      " 97%|█████████▋| 1153052/1193514 [00:50<00:01, 21020.81it/s]\u001b[A\n",
      " 97%|█████████▋| 1155160/1193514 [00:50<00:01, 20715.58it/s]\u001b[A\n",
      " 97%|█████████▋| 1157520/1193514 [00:50<00:01, 21503.84it/s]\u001b[A\n",
      " 97%|█████████▋| 1159844/1193514 [00:50<00:01, 21995.36it/s]\u001b[A\n",
      " 97%|█████████▋| 1162055/1193514 [00:50<00:01, 21339.48it/s]\u001b[A\n",
      " 98%|█████████▊| 1164522/1193514 [00:51<00:01, 22238.71it/s]\u001b[A\n",
      " 98%|█████████▊| 1166975/1193514 [00:51<00:01, 22878.64it/s]\u001b[A\n",
      " 98%|█████████▊| 1169373/1193514 [00:51<00:01, 23198.14it/s]\u001b[A\n",
      " 98%|█████████▊| 1171706/1193514 [00:51<00:00, 22561.05it/s]\u001b[A\n",
      " 98%|█████████▊| 1174108/1193514 [00:51<00:00, 22979.21it/s]\u001b[A\n",
      " 99%|█████████▊| 1176662/1193514 [00:51<00:00, 23691.47it/s]\u001b[A\n",
      " 99%|█████████▉| 1179045/1193514 [00:51<00:00, 23209.28it/s]\u001b[A\n",
      " 99%|█████████▉| 1181378/1193514 [00:51<00:00, 21629.10it/s]\u001b[A\n",
      " 99%|█████████▉| 1183836/1193514 [00:51<00:00, 22436.59it/s]\u001b[A\n",
      " 99%|█████████▉| 1186449/1193514 [00:52<00:00, 23430.07it/s]\u001b[A\n",
      "100%|█████████▉| 1188896/1193514 [00:52<00:00, 23730.51it/s]\u001b[A\n",
      "100%|█████████▉| 1191414/1193514 [00:52<00:00, 24147.11it/s]\u001b[A"
     ]
    },
    {
     "name": "stdout",
     "output_type": "stream",
     "text": [
      "GloVe 25 and 100 ready\n"
     ]
    }
   ],
   "source": [
    "# Or uploading the file directly from Drive\n",
    "glove_25 = vocab.Vectors(r\"/content/drive/My Drive/glove.twitter.27B.25d.txt\")\n",
    "# glove_50 = vocab.Vectors(r\"/content/drive/My Drive/glove.twitter.27B.50d.txt\")\n",
    "glove_100 = vocab.Vectors(r\"/content/drive/My Drive/glove.twitter.27B.100d.txt\")\n",
    "print(\"GloVe 25 and 100 ready\")"
   ]
  },
  {
   "cell_type": "markdown",
   "metadata": {
    "id": "y0IPIFAoptUh"
   },
   "source": [
    "## Creating __GloVe vocabulary__"
   ]
  },
  {
   "cell_type": "markdown",
   "metadata": {
    "id": "aW4J5rYpkScY"
   },
   "source": [
    "Cleaning dataframe from unused columns"
   ]
  },
  {
   "cell_type": "code",
   "execution_count": null,
   "metadata": {
    "id": "q6jem6hiauTD"
   },
   "outputs": [],
   "source": [
    "tweetDf.drop(columns=['tweet','text'],inplace=True)"
   ]
  },
  {
   "cell_type": "markdown",
   "metadata": {
    "id": "Lcr5cq7_fzqk"
   },
   "source": [
    "Creating Fields for my text column and the targets. After I am building a vocabulary from the GloVe embeddings and the tweets. This vocabulary has:\n",
    "- All words from the tweets (uniquely)\n",
    "- All words from the tweets (uniquely) that belong also to GloVe embeddings.\n",
    "\n",
    "These words are corellated to a vector (25 dimension) from Glove or with <pad>,<unk>"
   ]
  },
  {
   "cell_type": "markdown",
   "metadata": {
    "id": "QIvyWap6Q9fC"
   },
   "source": [
    "### Data dimensions\n",
    "```\n",
    "vector_length # after vectorization in the size of the vector that will be passed to the nets\n",
    "glove_length  # the length of the GloVe vector given from the Stanford files\n",
    "glove_package # the Stanford package\n",
    "\n",
    "```"
   ]
  },
  {
   "cell_type": "code",
   "execution_count": null,
   "metadata": {
    "id": "4KYbNJ2Sze59"
   },
   "outputs": [],
   "source": [
    "vector_length = 200\n",
    "glove_length  = 25\n",
    "glove_package = glove_25"
   ]
  },
  {
   "cell_type": "code",
   "execution_count": null,
   "metadata": {
    "colab": {
     "base_uri": "https://localhost:8080/"
    },
    "id": "mxX6cz_YOdxP",
    "outputId": "ec73d059-205b-454f-a28f-27ce21257022"
   },
   "outputs": [
    {
     "name": "stderr",
     "output_type": "stream",
     "text": [
      "\n",
      "100%|█████████▉| 1191414/1193514 [01:06<00:00, 24147.11it/s]\u001b[A"
     ]
    }
   ],
   "source": [
    "text_field = Field(tokenize=nltk.word_tokenize,lower=True,fix_length = vector_length,sequential=True) # tokenize text using word_tokenize and convert to numerical form using default parameters\n",
    "label_field = Field(sequential=False, use_vocab=False)\n",
    "\n",
    "fields = [('target',label_field),('processed_tweets',text_field)]\n",
    "\n",
    "preprocessed_text = tweetDf['processed_tweets'].apply(lambda x: text_field.preprocess(x))\n",
    "text_field.build_vocab(preprocessed_text,vectors=glove_package)"
   ]
  },
  {
   "cell_type": "markdown",
   "metadata": {
    "id": "uHMibRw0mex6"
   },
   "source": [
    "### Creating datasets\n",
    "\n",
    "As examples I give all words from column 'processed_tweets' of the dataframe. Sentences are tokenized from Field function with word_tokenizer from nltk. Also the new sets have sizes:\n",
    "- Train 80%\n",
    "- Validation 10%\n",
    "- Test 10%\n",
    "\n",
    "\n",
    "\n",
    "\n"
   ]
  },
  {
   "cell_type": "code",
   "execution_count": null,
   "metadata": {
    "id": "ttfL0t_8qlon"
   },
   "outputs": [],
   "source": [
    "from torchtext.data import Dataset, Example\n",
    "train_dataset,validation_dataset,test_dataset = Dataset(\n",
    "    examples=[Example.fromlist(list(r),fields) for i,r in tweetDf.iterrows()],\n",
    "    fields=fields).split(split_ratio=[0.8,0.1,0.1])"
   ]
  },
  {
   "cell_type": "markdown",
   "metadata": {
    "id": "tJEWUlnEmr56"
   },
   "source": [
    "__Batch size__ : I tried many batche-sizes (32,128,256) but I concluded to this size."
   ]
  },
  {
   "cell_type": "code",
   "execution_count": null,
   "metadata": {
    "id": "Pq5qqIMYenAG"
   },
   "outputs": [],
   "source": [
    "batch_size=128"
   ]
  },
  {
   "cell_type": "markdown",
   "metadata": {
    "id": "OUD2-7t7myhA"
   },
   "source": [
    "### Creating batches\n"
   ]
  },
  {
   "cell_type": "markdown",
   "metadata": {
    "id": "-TScledPAJfS"
   },
   "source": []
  },
  {
   "cell_type": "code",
   "execution_count": null,
   "metadata": {
    "id": "T67BBcf5jLlR"
   },
   "outputs": [],
   "source": [
    "train_loader, valid_loader, test_loader = BucketIterator.splits(\n",
    "    datasets=(train_dataset,validation_dataset ,test_dataset), \n",
    "    batch_sizes=(batch_size,batch_size,batch_size),\n",
    "    sort=False,\n",
    "    device = 'cuda' if train_on_gpu else 'cpu',\n",
    ")"
   ]
  },
  {
   "cell_type": "markdown",
   "metadata": {
    "id": "4g66u1IinG_w"
   },
   "source": [
    "# Neural Network __functions and utilities__"
   ]
  },
  {
   "cell_type": "markdown",
   "metadata": {
    "id": "SICGpkaynuET"
   },
   "source": [
    "## __Training__ and __validation__ function"
   ]
  },
  {
   "cell_type": "code",
   "execution_count": null,
   "metadata": {
    "id": "E-8g0xWpnwfM"
   },
   "outputs": [],
   "source": [
    "def train_and_validate(net,epochs,loss_function,optimizer,scheduler,args):\n",
    "\n",
    "  train_loss, train_acc = [], []\n",
    "  val_loss_list, val_acc_list = [], []\n",
    "\n",
    "  # number of epochs\n",
    "  if(train_on_gpu):\n",
    "    net.cuda()\n",
    "\n",
    "  for e in range(epochs):\n",
    "    \n",
    "    running_loss = 0.0\n",
    "    running_acc = 0.0\n",
    "    counter = 0\n",
    "    val_loss = 0.0\n",
    "    val_acc = 0.0\n",
    "    \n",
    "    # ------------- TRAIN --------------\n",
    "    net.train()    \n",
    "    for batch in train_loader:\n",
    "        counter += 1\n",
    "        \n",
    "        if(train_on_gpu):\n",
    "            batch.processed_tweets, batch.target = batch.processed_tweets.cuda(), batch.target.cuda()\n",
    "\n",
    "        optimizer.zero_grad()\n",
    "        # print(\"-- \",batch.processed_tweets.shape)\n",
    "        y_pred = net(batch.processed_tweets.T)\n",
    "\n",
    "        if(train_on_gpu):\n",
    "          y_pred = y_pred.squeeze().cuda()\n",
    "          target = batch.target.float().cuda()\n",
    "        else:\n",
    "          y_pred = y_pred.squeeze()\n",
    "          target = batch.target.float()\n",
    "\n",
    "        l = loss_function(y_pred, target)\n",
    "        running_loss += (l.item() - running_loss) / (counter)\n",
    "\n",
    "        l.backward()\n",
    "\n",
    "        # Clip gradients\n",
    "        if args.gradient_clip != None:\n",
    "          for param in net.parameters():\n",
    "              if param.grad is None:\n",
    "                  continue\n",
    "              grad_val = torch.clamp(param.grad, -args.gradient_clip, args.gradient_clip)\n",
    "\n",
    "        # apply gradients\n",
    "        optimizer.step()\n",
    "\n",
    "        acc_t = accuracy_score(batch.target.cpu().numpy(),torch.round(y_pred).cpu().detach().numpy())*100\n",
    "        running_acc += (acc_t - running_acc) / (counter)\n",
    "\n",
    "\n",
    "    train_loss.append(running_loss)\n",
    "    train_acc.append(running_acc)\n",
    "\n",
    "    # -------------- VALIDATE --------------\n",
    "\n",
    "    epoch_loss = 0.0\n",
    "    counter = 0\n",
    "    with torch.no_grad():\n",
    "        # Faster inference\n",
    "        net.eval()\n",
    "\n",
    "\n",
    "    for batch in valid_loader:\n",
    "      \n",
    "      counter += 1\n",
    "\n",
    "      if(train_on_gpu):\n",
    "        batch.processed_tweets, batch.target = batch.processed_tweets.cuda(), batch.target.cuda()\n",
    "  \n",
    "      y_pred = net.forward(batch.processed_tweets.T)\n",
    "\n",
    "      if(train_on_gpu):\n",
    "        y_pred = y_pred.squeeze().cuda()\n",
    "        target = batch.target.float().cuda()\n",
    "      else:\n",
    "        y_pred = y_pred.squeeze()\n",
    "        target = batch.target.float()\n",
    "\n",
    "      l = loss_function(y_pred, target)\n",
    "\n",
    "      val_loss += (l.item() - val_loss) / (counter)\n",
    "      # y_pred = torch.round(y_pred)\n",
    "      acc_t = accuracy_score(batch.target.cpu().numpy(),torch.round(y_pred).cpu().detach().numpy())*100\n",
    "      val_acc += (acc_t - val_acc) / (counter)\n",
    "\n",
    "    val_loss_list.append(val_loss)\n",
    "    val_acc_list.append(val_acc)\n",
    "    if scheduler != None:\n",
    "      scheduler.step(val_loss_list[-1])\n",
    "    print(f'Epoch {(e+1)+0:03} | Train_Loss: {running_loss:.5f} | Train_Acc: {running_acc:.3f} | Val_Loss: {val_loss:.3f} | Val_Acc: {val_acc:.3f}')\n",
    "  \n",
    "  print()\n",
    "  print(\"TRAIN STATS:\")\n",
    "  print(\"Train mean loss: {:.6f} \".format(np.mean(train_loss)))\n",
    "  print(\"Train mean acc: {:.6f}\".format(np.mean(train_acc)))\n",
    "  print()\n",
    "  print(\"VALIDATION STATS:\")\n",
    "  print(\"Validation mean loss: {:.6f} \".format(np.mean(val_loss)))\n",
    "  print(\"Validation mean acc: {:.6f}\".format(np.mean(val_acc)))     \n",
    "\n",
    "  return train_loss,train_acc,val_loss_list,val_acc_list"
   ]
  },
  {
   "cell_type": "markdown",
   "metadata": {
    "id": "lXB6WpcLn4Py"
   },
   "source": [
    "## __Test__ function"
   ]
  },
  {
   "cell_type": "code",
   "execution_count": null,
   "metadata": {
    "id": "mhXE30GlKCCX"
   },
   "outputs": [],
   "source": [
    "def test(net,test_loader,loss_function):\n",
    "  running_loss = 0.0\n",
    "  score_accuracy = []\n",
    "  score_f1 = []\n",
    "  score_precision = []\n",
    "  score_recall = []\n",
    "  counter = 0\n",
    "\n",
    "  net.eval()\n",
    "  for batch in test_loader:\n",
    "      counter += 1\n",
    "\n",
    "      if(train_on_gpu):\n",
    "        batch.processed_tweets, batch.target = batch.processed_tweets.cuda(), batch.target.cuda()\n",
    "  \n",
    "      y_pred = net.forward(batch.processed_tweets.T)\n",
    "\n",
    "      if(train_on_gpu):\n",
    "        batch.processed_tweets, batch.target = batch.processed_tweets.cpu(), batch.target.cpu()\n",
    "\n",
    "      y_pred = torch.round(y_pred).cpu()\n",
    "      score_f1.append(f1_score(batch.target.numpy(),y_pred.detach().numpy()))\n",
    "      score_accuracy.append(accuracy_score(batch.target.numpy(),y_pred.detach().numpy()))\n",
    "      score_recall.append(recall_score(batch.target.numpy(),y_pred.detach().numpy()))\n",
    "      score_precision.append(precision_score(batch.target.numpy(),y_pred.detach().numpy()))\n",
    "      \n",
    "  print(\"F1:        {:.6f}\".format(np.mean(score_f1)*100))\n",
    "  print(\"Recall:    {:.6f}\".format(np.mean(score_recall)*100))\n",
    "  print(\"Precision: {:.6f}\".format(np.mean(score_precision)*100))\n",
    "  print(\"Accuracy:  {:.6f}\".format(np.mean(score_accuracy)*100))"
   ]
  },
  {
   "cell_type": "markdown",
   "metadata": {
    "id": "ddYyETUEoTkW"
   },
   "source": [
    "## Custom __Grid search__ function"
   ]
  },
  {
   "cell_type": "code",
   "execution_count": null,
   "metadata": {
    "id": "EBm3Q3uLoWCI"
   },
   "outputs": [],
   "source": [
    "from torch.optim import Adam\n",
    "\n",
    "def grid_search(optimizers,learning_rates,hidden_layers):\n",
    "\n",
    "    counter = 0\n",
    "    for optimizer_name in optimizers:\n",
    "      for lr in learning_rates:\n",
    "        for hidden_layer in hidden_layers:\n",
    "          counter += 1\n",
    "          print(\"----------------------------------------------\")\n",
    "          print(\"\\n Grid Search \",counter,\"\\n- Optimizer:  \",str(optimizer_name),\"\\n- Learning rate: \",lr,\"\\n- Hidden layers: \",hidden_layer,\"\\n\\n\")\n",
    "          epochs = 5\n",
    "          loss_function = nn.BCELoss()\n",
    "          net = TweetClassifier(vocab_size = len(text_field.vocab),\n",
    "                                embedding_dim = 25,\n",
    "                                input_size = 100,\n",
    "                                hidden_size1 = 100,\n",
    "                                embedding = text_field.vocab.vectors\n",
    "                                )\n",
    "          optimizer =  optimizer_name(net.parameters(),lr = lr)\n",
    "          train_loss,train_acc,val_loss,val_acc = train_and_validate(net,epochs,loss_function,optimizer)\n",
    "          loss_accVSepochs(train_loss,train_acc,val_loss,val_acc,epochs)\n",
    "          print(\"\\n\\nTEST RESULTS:\")\n",
    "          test(net,test_loader,loss_function)\n",
    "          print(\"----------------------------------------------\")"
   ]
  },
  {
   "cell_type": "markdown",
   "metadata": {
    "id": "Q_iU0icsoXZd"
   },
   "source": [
    "## __Loss__ and __Accuracy__ VS __Epochs__"
   ]
  },
  {
   "cell_type": "code",
   "execution_count": null,
   "metadata": {
    "id": "V6QK0n65oaPH"
   },
   "outputs": [],
   "source": [
    "plt.style.use('seaborn-whitegrid') # plot style\n",
    "\n",
    "def loss_accVSepochs(train_loss,train_acc,val_loss,val_acc,epochs):\n",
    "  # plt.subplots_adjust( wspace=0.9, hspace=0.9)\n",
    "  fig, (ax1, ax2) = plt.subplots(1,2,figsize=(10,4))\n",
    "\n",
    "  ax1.plot(range(epochs),train_loss,'bo-' ,label = 'Training loss')\n",
    "  ax1.plot(range(epochs),val_loss ,'ro-',label = 'Validation loss')\n",
    "  ax1.set_ylabel('Loss')\n",
    "  ax1.set_xlabel('Epoch')\n",
    "  ax1.set_title('Loss VS Epoch',y = 1.03,fontsize=15)\n",
    "  ax1.set_xlim([-1,epochs])\n",
    "  ax1.legend(loc=\"best\")\n",
    "\n",
    "  ax2.plot(range(epochs),train_acc,'bo-' ,label = 'Training accuracy')\n",
    "  ax2.plot(range(epochs),val_acc ,'ro-',label = 'Validation accuracy')\n",
    "  ax2.set_ylabel('Accuracy')\n",
    "  ax2.set_xlabel('Epoch')\n",
    "  ax2.set_title('Accuracy VS Epoch',y = 1.03,fontsize=15)\n",
    "  ax2.set_xlim([-1,epochs])\n",
    "  ax2.legend(loc=\"best\")\n",
    "\n",
    "  plt.show()"
   ]
  },
  {
   "cell_type": "markdown",
   "metadata": {
    "id": "RP0yiPUZogKG"
   },
   "source": [
    "# __Running best model section__\n",
    "\n"
   ]
  },
  {
   "cell_type": "code",
   "execution_count": null,
   "metadata": {
    "id": "Au180ZceUV1S"
   },
   "outputs": [],
   "source": [
    "from argparse import Namespace\n",
    "\n",
    "args = Namespace(\n",
    "    gradient_clip = 2,\n",
    ")"
   ]
  },
  {
   "cell_type": "code",
   "execution_count": null,
   "metadata": {
    "id": "C4rjstIE1XEr"
   },
   "outputs": [],
   "source": [
    "class RNN_TweetClassifier(nn.Module):\n",
    "    def __init__(self, cell_type, input_size, output_size, vocab_size, embedding_dim, hidden_size,num_layers, num_classes=1,hidden_dim=200,hidden_size1 = 500,hidden_size2 = 100, embedding=None ,bidirectional=True ,dropout_prob=0.2,output_state='Last'):\n",
    "        super(RNN_TweetClassifier,self).__init__()\n",
    "\n",
    "\n",
    "        cells = {\n",
    "          \"RNN\"     : nn.RNN,\n",
    "          \"LSTM\"    : nn.LSTM,\n",
    "          \"GRU\"     : nn.GRU\n",
    "        }\n",
    "\n",
    "        self.cell_type = cell_type\n",
    "        self.dropout_prob = dropout_prob\n",
    "        self.output_state = output_state\n",
    "        self.input_size, self.output_size, self.hidden_size, self.vocab_size, self.embedding_dim ,self.num_layers = input_size, output_size, hidden_size, vocab_size, embedding_dim, num_layers\n",
    "        self.bidirectional = bidirectional\n",
    "\n",
    "        self.embedding = nn.Embedding.from_pretrained(torch.FloatTensor(embedding),padding_idx=0)\n",
    "        \n",
    "        self.rnn = cells[cell_type](         # Pick the specific model\n",
    "            input_size=embedding_dim,           # Number of features for each time step\n",
    "            hidden_size=hidden_size,         # Rnn hidden embedding representation\n",
    "            num_layers=num_layers,           # Number of layers (if >1 it is a stacked RNN)\n",
    "            bidirectional=bidirectional,     # If true it is a \n",
    "            batch_first=True,                # input & output will have batch size as 1st dimension. e.g. (batch, time_step, input_size)\n",
    "            dropout = dropout_prob if dropout_prob != None else 0,\n",
    "\n",
    "        )        \n",
    "\n",
    "        if dropout_prob != None:\n",
    "          self.dropout = nn.Dropout(p = dropout_prob)\n",
    "\n",
    "        if bidirectional == True:\n",
    "          self.fc1 = nn.Linear(hidden_size*2 , output_size)        \n",
    "        else:\n",
    "          self.fc1 = nn.Linear(hidden_size , output_size)\n",
    "\n",
    "\n",
    "        # self.fc1 = nn.Linear(input_size* embedding_dim,hidden_size1)\n",
    "        # self.relu1 = nn.ReLU()\n",
    "        \n",
    "        # self.fc2 = nn.Linear(50,1)\n",
    "\n",
    "        self.sigmoid = nn.Sigmoid()\n",
    "        \n",
    "    def forward(self, x):\n",
    "        \n",
    "        # print('x shape:', x.shape)\n",
    "        # out = self.embedding[x].reshape(x.size()[0], -1) or better\n",
    "        out = self.embedding(x)\n",
    "        \n",
    "        if self.dropout_prob != None:\n",
    "          out = self.dropout(out)\n",
    "\n",
    "        # print('out shape:', out.shape) \n",
    "        if self.cell_type == 'LSTM':\n",
    "            r_out, (last_hidden_state, last_cell_state) = self.rnn(out.detach()) \n",
    "        else:\n",
    "            r_out, last_hidden_state = self.rnn(out.detach())\n",
    "\n",
    "      \n",
    "        if self.output_state == 'Last' :\n",
    "          r_out = r_out[:, -1, :]\n",
    "\n",
    "        elif self.output_state == 'Mean': \n",
    "          r_out = torch.mean(r_out,1)\n",
    "        \n",
    "        elif self.output_state == 'Max':\n",
    "          r_out,_ = torch.max(r_out,dim=1)\n",
    "        \n",
    "        elif self.output_state == 'Min':\n",
    "          r_out,_ = torch.min(r_out,dim=1)\n",
    "        \n",
    "      \n",
    "\n",
    "        out = self.fc1(r_out) \n",
    "        out = self.sigmoid(out)\n",
    "\n",
    "        return out"
   ]
  },
  {
   "cell_type": "code",
   "execution_count": null,
   "metadata": {
    "colab": {
     "base_uri": "https://localhost:8080/"
    },
    "id": "oPtqfbi51cbU",
    "outputId": "15b0ed33-98a0-43f4-a498-883d1507ed69"
   },
   "outputs": [
    {
     "name": "stdout",
     "output_type": "stream",
     "text": [
      "Epoch 001 | Train_Loss: 0.60790 | Train_Acc: 65.753 | Val_Loss: 0.554 | Val_Acc: 71.321\n",
      "Epoch 002 | Train_Loss: 0.54960 | Train_Acc: 71.671 | Val_Loss: 0.529 | Val_Acc: 73.398\n",
      "Epoch 003 | Train_Loss: 0.53264 | Train_Acc: 72.964 | Val_Loss: 0.511 | Val_Acc: 74.585\n",
      "Epoch 004 | Train_Loss: 0.52129 | Train_Acc: 73.904 | Val_Loss: 0.507 | Val_Acc: 75.208\n",
      "Epoch 005 | Train_Loss: 0.52257 | Train_Acc: 73.728 | Val_Loss: 0.509 | Val_Acc: 74.802\n",
      "\n",
      "TRAIN STATS:\n",
      "Train mean loss: 0.546798 \n",
      "Train mean acc: 71.604191\n",
      "\n",
      "VALIDATION STATS:\n",
      "Validation mean loss: 0.509461 \n",
      "Validation mean acc: 74.802215\n"
     ]
    }
   ],
   "source": [
    "net = RNN_TweetClassifier(\n",
    "    vocab_size = len(text_field.vocab),\n",
    "    embedding_dim = glove_length,\n",
    "    input_size = vector_length,\n",
    "    hidden_size = 64,\n",
    "    output_size = 1,\n",
    "    num_layers = 3,\n",
    "    bidirectional = True,\n",
    "    cell_type = 'GRU',\n",
    "    embedding = text_field.vocab.vectors,\n",
    "    dropout_prob = 0.1,\n",
    "    output_state = 'Mean'\n",
    ")\n",
    "net\n",
    "learning_rate = 0.01\n",
    "epochs = 5\n",
    "loss_function = nn.BCELoss()\n",
    "optimizer =  Adam(net.parameters(),lr = learning_rate)\n",
    "lr_scheduler = optim.lr_scheduler.ReduceLROnPlateau(optimizer)\n",
    "args.gradient_clip = 1\n",
    "\n",
    "train_loss,train_acc,val_loss,val_acc = train_and_validate(net,epochs,loss_function,optimizer,lr_scheduler,args)"
   ]
  },
  {
   "cell_type": "markdown",
   "metadata": {
    "id": "i6gyhJT3gqbt"
   },
   "source": [
    "## Best classification technique\n",
    "\n",
    "More that one combinations has almost same results so I will take one of them in order to make its plots and make some remarks of that perfomarmance.\n",
    "\n",
    "  - GRU Neural Net:\n",
    "  - Stacked RNN: Layers 3\n",
    "  - Hidden sizes: 64\n",
    "  - Bidirectional\n",
    "  - Dropout probability:  0.1\n",
    "  - Gradient clipping size: 1\n",
    "  - Learning rate:  0.01 , with a scheduler\n"
   ]
  },
  {
   "cell_type": "markdown",
   "metadata": {
    "id": "R4QaBAPYjJ2Q"
   },
   "source": [
    "## Test results (F1,Recall,Precision,Accuracy)"
   ]
  },
  {
   "cell_type": "code",
   "execution_count": null,
   "metadata": {
    "colab": {
     "base_uri": "https://localhost:8080/"
    },
    "id": "AAOCZqX4gp42",
    "outputId": "45741c1b-58b3-4acf-b8a4-b519d8dbc153"
   },
   "outputs": [
    {
     "name": "stdout",
     "output_type": "stream",
     "text": [
      "\n",
      "\n",
      "TEST RESULTS:\n",
      "F1:        74.987436\n",
      "Recall:    74.836533\n",
      "Precision: 75.448010\n",
      "Accuracy:  75.211630\n"
     ]
    }
   ],
   "source": [
    "print(\"\\n\\nTEST RESULTS:\")\n",
    "test(net,test_loader,loss_function)"
   ]
  },
  {
   "cell_type": "markdown",
   "metadata": {
    "id": "jqrE3tPUHsjf"
   },
   "source": [
    "## Checking for __Underfitting__ or __Overfitting__"
   ]
  },
  {
   "cell_type": "code",
   "execution_count": null,
   "metadata": {
    "colab": {
     "base_uri": "https://localhost:8080/",
     "height": 299
    },
    "id": "uE1mRbH7rnKW",
    "outputId": "17cb62ab-eca0-477d-e8d7-31029e5bbca3"
   },
   "outputs": [
    {
     "data": {
      "image/png": "[encoded data removed]",
      "text/plain": [
       "<Figure size 720x288 with 2 Axes>"
      ]
     },
     "metadata": {
      "tags": []
     },
     "output_type": "display_data"
    }
   ],
   "source": [
    "loss_accVSepochs(train_loss,train_acc,val_loss,val_acc,epochs)"
   ]
  },
  {
   "cell_type": "markdown",
   "metadata": {
    "id": "XP9QOfYnPTZe"
   },
   "source": [
    "No overfitting in this execution, as I peeked 5 epochs, a small dropout prob size (0.1) and  a small gradient clip size (1).\n",
    "\n",
    "These selections were made, bacause element-wise mean in combination with GRU had from the first epochs high scores and small losses in comparison with the other models. As a result the model was overfitting after the first-two epochs.\n",
    "\n",
    "For this reason I choosed the dropout and grad. clip I said before.\n",
    "\n"
   ]
  },
  {
   "cell_type": "markdown",
   "metadata": {
    "id": "WFIWU4k4xa9d"
   },
   "source": [
    "## Testing to all dataset (no batches)\n",
    "\n",
    "For plotting purposes mosty."
   ]
  },
  {
   "cell_type": "code",
   "execution_count": null,
   "metadata": {
    "colab": {
     "base_uri": "https://localhost:8080/"
    },
    "id": "TlXReCaDxi9e",
    "outputId": "059bab9b-e1ed-4817-cc64-69b9fdae7164"
   },
   "outputs": [
    {
     "name": "stdout",
     "output_type": "stream",
     "text": [
      "F1:        75.090253\n",
      "Recall:    75.157516\n",
      "Precision: 74.805195\n",
      "Accuracy:  75.377491\n"
     ]
    }
   ],
   "source": [
    "running_loss = 0.0\n",
    "\n",
    "_, _ , plot_test_loader = BucketIterator.splits(\n",
    "    datasets=(train_dataset,validation_dataset ,test_dataset), \n",
    "    batch_sizes=(batch_size,batch_size,len(test_dataset.examples)),\n",
    "    sort=False\n",
    ")\n",
    "for batch in plot_test_loader:\n",
    "\n",
    "  if(train_on_gpu):\n",
    "    batch.processed_tweets, batch.target = batch.processed_tweets.cuda(), batch.target.cuda()\n",
    "\n",
    "  y_pred = net.forward(batch.processed_tweets.T)\n",
    "  y_pred = torch.round(y_pred).cpu()\n",
    "\n",
    "  print(\"F1:        {:.6f}\".format(f1_score(batch.target.cpu().numpy(),y_pred.detach().cpu().numpy())*100))\n",
    "  print(\"Recall:    {:.6f}\".format(accuracy_score(batch.target.cpu().numpy(),y_pred.detach().cpu().numpy())*100))\n",
    "  print(\"Precision: {:.6f}\".format(recall_score(batch.target.cpu().numpy(),y_pred.detach().cpu().numpy())*100))\n",
    "  print(\"Accuracy:  {:.6f}\".format(precision_score(batch.target.cpu().numpy(),y_pred.detach().cpu().numpy())*100))"
   ]
  },
  {
   "cell_type": "markdown",
   "metadata": {
    "id": "VYtZuhEzAVYG"
   },
   "source": [
    "## Classification report for positive and negative class"
   ]
  },
  {
   "cell_type": "code",
   "execution_count": 57,
   "metadata": {
    "colab": {
     "base_uri": "https://localhost:8080/"
    },
    "id": "gIy56bYh_574",
    "outputId": "e5348932-3c97-497d-dfcf-4c428af65287"
   },
   "outputs": [
    {
     "name": "stdout",
     "output_type": "stream",
     "text": [
      "              precision    recall  f1-score   support\n",
      "\n",
      "           0       0.75      0.76      0.75      4994\n",
      "           1       0.75      0.75      0.75      5005\n",
      "\n",
      "    accuracy                           0.75      9999\n",
      "   macro avg       0.75      0.75      0.75      9999\n",
      "weighted avg       0.75      0.75      0.75      9999\n",
      "\n"
     ]
    }
   ],
   "source": [
    "from sklearn.metrics import classification_report\n",
    "\n",
    "print(classification_report(batch.target.cpu().numpy(),y_pred.detach().cpu().numpy(),labels=[0,1]))"
   ]
  },
  {
   "cell_type": "markdown",
   "metadata": {
    "id": "JD5oOOMuAfQW"
   },
   "source": [
    "Firstly I will present the meaning of each score\n",
    "\n",
    "> __Precision__ is the ability of a classifier not to label an instance positive that is actually negative. For each class it is defined as the ratio of true positives to the sum of true and false positives.\n",
    "\n",
    "> __Recall__ is the ability of a classifier to find all positive instances. For each class it is defined as the ratio of true positives to the sum of true positives and false negatives.\n",
    "\n",
    "> The F1 score is a weighted harmonic mean of precision and recall such that the best score is 1.0 and the worst is 0.0. Generally speaking, F1 scores are lower than accuracy measures as they embed precision and recall into their computation. As a rule of thumb, the weighted average of F1 should be used to compare classifier models, not global accuracy.\n",
    "\n",
    "__Report remarks__\n",
    "\n",
    "I can see from the report, that my best model decides with a great variance the two classes. The scores (which mean the percentages I mentioned before) are almost the same as far for the two classes. This means that theres no extra converge in the one class and that it can distinguish the two classes with the same accuracy. "
   ]
  },
  {
   "cell_type": "markdown",
   "metadata": {
    "id": "amX9PDZ6GY8X"
   },
   "source": [
    "## Confusion matrix"
   ]
  },
  {
   "cell_type": "code",
   "execution_count": null,
   "metadata": {
    "id": "hNPLnyZDGX0U"
   },
   "outputs": [],
   "source": [
    "import itertools \n",
    "import sklearn\n",
    "\n",
    "# Function that creates a confusion matrix\n",
    "def create_ConfusionMatrix(confusionMatrix,title):\n",
    "    plt.figure(figsize = (8,5))\n",
    "    classes = ['Negative','Positive']\n",
    "    cmap = plt.cm.Blues\n",
    "    plt.grid(False)\n",
    "    plt.imshow(confusionMatrix, interpolation='nearest', cmap=cmap)\n",
    "    plt.title(title)\n",
    "    plt.colorbar()\n",
    "    tick_marks = np.arange(len(classes))\n",
    "    plt.xticks(tick_marks, classes, rotation=45)\n",
    "    plt.yticks(tick_marks, classes)\n",
    "\n",
    "    thresh = confusionMatrix.max() / 2.\n",
    "    for i, j in itertools.product(range(confusionMatrix.shape[0]), range(confusionMatrix.shape[1])):\n",
    "        plt.text(j, i, confusionMatrix[i, j],horizontalalignment=\"center\",color=\"white\" if confusionMatrix[i, j] > thresh else \"black\")\n",
    "\n",
    "    plt.tight_layout()\n",
    "    plt.ylabel('True label')\n",
    "    plt.xlabel('Predicted label')\n",
    "    plt.tight_layout()\n",
    "    plt.ylim([1.5, -.5])\n",
    "    plt.show()  "
   ]
  },
  {
   "cell_type": "code",
   "execution_count": null,
   "metadata": {
    "colab": {
     "base_uri": "https://localhost:8080/",
     "height": 369
    },
    "id": "nPnetJVzGl2j",
    "outputId": "64ca2c94-38e3-467e-ec00-de566030ecfc"
   },
   "outputs": [
    {
     "data": {
      "image/png": "[encoded data removed]",
      "text/plain": [
       "<Figure size 576x360 with 2 Axes>"
      ]
     },
     "metadata": {
      "tags": []
     },
     "output_type": "display_data"
    }
   ],
   "source": [
    "cm = sklearn.metrics.confusion_matrix(batch.target.cpu().numpy(),y_pred.detach().cpu().numpy(),labels=[0,1])\n",
    "create_ConfusionMatrix(cm,'Confusion matrix')"
   ]
  },
  {
   "cell_type": "markdown",
   "metadata": {
    "id": "wj7GC-_s66fl"
   },
   "source": [
    "I can see a good variance of false-positives false-negatives, a good sign of the classification made."
   ]
  },
  {
   "cell_type": "markdown",
   "metadata": {
    "id": "KRafjZNEhD8Y"
   },
   "source": [
    "## __ROC__ curve"
   ]
  },
  {
   "cell_type": "code",
   "execution_count": null,
   "metadata": {
    "id": "CCNUfujOrmkI"
   },
   "outputs": [],
   "source": [
    "from sklearn import datasets\n",
    "from sklearn.metrics import roc_curve,auc\n",
    "from numpy import interp\n",
    "from itertools import cycle\n",
    "\n",
    "# This function was impemented with another team member in the previous semester for Data Mining lesson\n",
    "def create_ROCplot(n_classes,predictions,y_test,title):\n",
    "\n",
    "    classes = ['Negative','Positive']\n",
    "    plt.figure(figsize = (10,8))\n",
    "    fpr = dict()\n",
    "    tpr = dict()\n",
    "    roc_auc = dict()\n",
    "\n",
    "    for i in range(n_classes):\n",
    "        fpr[i], tpr[i], _ = roc_curve(np.array(pd.get_dummies(y_test))[:, i], np.array(pd.get_dummies(predictions))[:, i])\n",
    "        roc_auc[i] = auc(fpr[i], tpr[i])\n",
    "\n",
    "\n",
    "    all_fpr = np.unique(np.concatenate([fpr[i] for i in range(n_classes)]))\n",
    "\n",
    "    mean_tpr = np.zeros_like(all_fpr)\n",
    "    for i in range(n_classes):\n",
    "        mean_tpr += interp(all_fpr, fpr[i], tpr[i])\n",
    "\n",
    "    mean_tpr /= n_classes\n",
    "\n",
    "    fpr[\"macro\"] = all_fpr\n",
    "    tpr[\"macro\"] = mean_tpr\n",
    "    roc_auc[\"macro\"] = auc(fpr[\"macro\"], tpr[\"macro\"])\n",
    "\n",
    "    lw=2\n",
    "\n",
    "    plt.plot(fpr[\"macro\"],tpr[\"macro\"],label='macro-average ROC curve (area = {0:0.2f})'''.format(roc_auc[\"macro\"]),color='blue', linestyle=':', linewidth=4)\n",
    "\n",
    "    colors = cycle(['aqua', 'darkorange', 'cornflowerblue','red','darkred'])\n",
    "    for i, color in zip(range(n_classes), colors):\n",
    "        plt.plot(fpr[i], tpr[i], color=color,lw=lw,label='Class - {0}'''.format(classes[i]))\n",
    "\n",
    "    plt.plot([0, 1], [0, 1], 'k--',color='red', lw=lw)\n",
    "    plt.xlim([0.0, 1.0])\n",
    "    plt.ylim([0.0, 1.05])\n",
    "    plt.annotate('Random Guess',(.5,.48),color='red')\n",
    "    plt.xlabel('False Positive Rate')\n",
    "    plt.ylabel('True Positive Rate')\n",
    "    plt.title(title,fontsize=20,fontweight='bold')\n",
    "    plt.legend(loc=\"lower right\")\n",
    "    plt.show()"
   ]
  },
  {
   "cell_type": "code",
   "execution_count": null,
   "metadata": {
    "colab": {
     "base_uri": "https://localhost:8080/",
     "height": 514
    },
    "id": "fl_TKNUz2Y9r",
    "outputId": "630a9cd4-90df-4d17-a49e-4fef0a53d672"
   },
   "outputs": [
    {
     "data": {
      "image/png": "[encoded data removed]",
      "text/plain": [
       "<Figure size 720x576 with 1 Axes>"
      ]
     },
     "metadata": {
      "tags": []
     },
     "output_type": "display_data"
    }
   ],
   "source": [
    "create_ROCplot(2,y_pred.detach().cpu().numpy().reshape(-1),batch.target.cpu().numpy(),'ROC curve')"
   ]
  },
  {
   "cell_type": "markdown",
   "metadata": {
    "id": "FgbZXX8a7ccu"
   },
   "source": [
    "__ROC curve remarks:__\n",
    "\n",
    "- AUC is aproximately 0.75 it means there is 75% chance that model will be able to distinguish between positive tweets and negative tweets. \n",
    "\n",
    "- I can see the curves overlapping which is not very good sign of the ability of the model to distinguish the two classes (despite the AUC and the scores presented before and kinda I don't know why :( ) .\n"
   ]
  },
  {
   "cell_type": "markdown",
   "metadata": {
    "id": "MHNYo6MujU8A"
   },
   "source": [
    "# Overall __Remarks__\n"
   ]
  },
  {
   "cell_type": "markdown",
   "metadata": {
    "id": "2yTTXfCUqrPG"
   },
   "source": [
    "## Tweets pre-process using __GloVe__\n",
    "---\n",
    "\n",
    "I use from the given dataset 100.000 tweets out of 1.200.000\n",
    "\n",
    "__GloVe pre-process steps:__\n",
    "* Loading GloVe dataset for Twitter\n",
    "* Creating a vovabulary from GloVe words combined with those inside tweets.\n",
    "* Word tokenizing tweets\n",
    "* Creating tensors and batches from this set.\n",
    "* Initializing the NNs first layer (Embedding layer) with the vectors of the vocabulary\n",
    "* At trainning process I pass to the net vectors of integers (word ids to the vocab-dictionary) and in the Embedding layer these numbers are beeing tranformed to the vectors that match in the vocabulary.\n",
    "* Finally, Linear layer handles this tensor of [-1,1] that produced from the embedding layer.  \n",
    "\n",
    "There are approximately 560.000 words in our vocabulary by using GloVe embeddings in combination with the given tweets. It is massively inefficient to one-hot encode that many classes. So, instead of one-hot encoding, we can have an embedding layer and use that layer as a lookup table.\n"
   ]
  },
  {
   "cell_type": "markdown",
   "metadata": {
    "id": "p8yfMjgYqixp"
   },
   "source": [
    "## Neural Network\n",
    "---\n",
    "\n",
    "- I used a simple Neural Net without the skip connections, because even though I tried to increase the performance it wasn't enough on achieving better scores than the one presented in this notebook.\n",
    "\n",
    "- Hidden sizes and stacked NNs made the network more dense and needed extra care in not overfitting. For these reason for the 100.000 tweets in this notebook I choosed hidden size 64 and stacked layers of GRU 3.\n",
    "\n",
    "- Element-wise mean ,instead of last state, made the network performing very good in just 2 to 5 epochs (it did made it also a lot more vulnerable in overfitting) \n",
    "\n",
    "- GRU was the fastest and without too much running did achived some high scores"
   ]
  },
  {
   "cell_type": "markdown",
   "metadata": {
    "id": "IRX-Xwwy_hmB"
   },
   "source": [
    "## Comparison with the GloVe previous project\n",
    "---\n",
    "\n",
    "Previous best model scores were:\n",
    "```\n",
    "F1:        70.743652\n",
    "Recall:    71.561725\n",
    "Precision: 68.735255\n",
    "Accuracy:  72.872949\n",
    "```\n",
    "\n",
    "GRU model has better scores that the feed-forward NN in the previous project. I believe this happens for these reasons:\n",
    "- RNNs can work a lot of better with bigger data. The feed-forward NN could not compehende with the size of the tweets and mostly\n",
    "- Backpropagation and the nature of the RNNs that can store all these states and work with them, is making them even more efficient than the simple feed-forwarn NNs \n"
   ]
  },
  {
   "cell_type": "markdown",
   "metadata": {
    "id": "eguuWETtDVEr"
   },
   "source": [
    "## Comparison with the TfiDf previous project\n",
    "---\n",
    "\n",
    "\n",
    "Previous best model scores were:\n",
    "```\n",
    "F1:        77.940323\n",
    "Recall:    79.899812\n",
    "Precision: 76.074644\n",
    "Accuracy:  77.426714\n",
    "```\n",
    "\n",
    "GRU model has almost the same scores with the feed-forward NN that is working with TfiDf vectorization in the previous project. I can't really know why as the vectorization of the TfiDf is not using the word embeddings which generally gives better results. Maybe something went wrong with my embeddings but no matter of what I searched I can't explain why these different models have almost same performances.\n"
   ]
  },
  {
   "cell_type": "markdown",
   "metadata": {
    "id": "jvgVqIiM8ofi"
   },
   "source": [
    "__*Note-1:__ The results vary given the mini-batch nature of the algorithm or evaluation procedure, or differences in numerical precision. \n",
    "\n",
    "__*Note-2:__ I made a seperate notebook for the best model for code sanity and also because I wanted to increase the given data (number of tweets and glove size)"
   ]
  },
  {
   "cell_type": "markdown",
   "metadata": {
    "id": "V_vvQqhZqaat"
   },
   "source": [
    "# References\n",
    "\n",
    "[1] Deep Learning For NLP with PyTorch and Torchtext [TowardsDataScience](https://towardsdatascience.com/deep-learning-for-nlp-with-pytorch-and-torchtext-4f92d69052f) \n",
    "\n",
    "[2] Deep Learning For NLP with PyTorch and Torchtext  [dl-for-nlp-pytorch-torchtext.ipynb](https://colab.research.google.com/github/agungsantoso/deep-learning-v2-pytorch/blob/master/sentiment-rnn/Sentiment_RNN_Exercise.ipynb#scrollTo=AVzirwGqpmva)\n",
    "\n",
    "[3] \n",
    "Sentiment Analysis with an RNN [Sentiment_RNN_Exercise.ipynb](https://colab.research.google.com/github/agungsantoso/deep-learning-v2-pytorch/blob/master/sentiment-rnn/Sentiment_RNN_Exercise.ipynb#scrollTo=AVzirwGqpmva)\n",
    "\n",
    "[4] NLP-Bginner-RNN-GRU-LSTM-Embeddings-GloVe-using-PyTorch [GitHub](https://github.com/deshwalmahesh/NLP-Bginner-RNN-GRU-LSTM-Embeddings-GloVe-using-PyTorch/blob/master/nlp-beginner-1-rnn-lstm-gru-embeddings-glove.ipynb)\n",
    "\n",
    "[5] imdb-sentiment-analysis-with-pytorch [GitHub](https://github.com/ShalyginaA/imdb-sentiment-analysis-with-pytorch/blob/master/imdb_analysis.ipynb)\n",
    "\n",
    "[6]How to use Pre-trained Word Embeddings in PyTorch [Medium](https://medium.com/@martinpella/how-to-use-pre-trained-word-embeddings-in-pytorch-71ca59249f76)\n",
    "\n",
    "[7] PyTorch: Loading word vectors into Field vocabulary vs. Embedding layer [StackOverflow](https://stackoverflow.com/questions/62291303/pytorch-loading-word-vectors-into-field-vocabulary-vs-embedding-layer)"
   ]
  }
 ],
 "metadata": {
  "accelerator": "GPU",
  "colab": {
   "collapsed_sections": [
    "vc56d1wI5lMz",
    "Qv-s7sFSm7_F",
    "WZiGdTU4kzVl",
    "pDtbIy5UnALM",
    "9wp8npXJgBSh",
    "oFG5JJUkgzwU",
    "y0IPIFAoptUh",
    "QIvyWap6Q9fC",
    "uHMibRw0mex6",
    "OUD2-7t7myhA",
    "4g66u1IinG_w",
    "SICGpkaynuET",
    "lXB6WpcLn4Py",
    "ddYyETUEoTkW",
    "Q_iU0icsoXZd",
    "i6gyhJT3gqbt",
    "2yTTXfCUqrPG",
    "V_vvQqhZqaat"
   ],
   "name": "SentimentClassiffier_GloVe_RNN_BestModel",
   "provenance": [],
   "toc_visible": true
  },
  "kernelspec": {
   "display_name": "Python 3",
   "language": "python",
   "name": "python3"
  },
  "language_info": {
   "codemirror_mode": {
    "name": "ipython",
    "version": 3
   },
   "file_extension": ".py",
   "mimetype": "text/x-python",
   "name": "python",
   "nbconvert_exporter": "python",
   "pygments_lexer": "ipython3",
   "version": "3.7.6"
  }
 },
 "nbformat": 4,
 "nbformat_minor": 1
}
